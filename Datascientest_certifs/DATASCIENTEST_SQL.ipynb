{
 "cells": [
  {
   "cell_type": "markdown",
   "metadata": {},
   "source": [
    "# DATASCIENTEST - SQL"
   ]
  },
  {
   "cell_type": "markdown",
   "metadata": {},
   "source": [
    "## 1. Introduction "
   ]
  },
  {
   "cell_type": "code",
   "execution_count": null,
   "metadata": {},
   "outputs": [],
   "source": [
    "# Exécutez cette cellule pour importer les fonctions que l'on va utiliser\n",
    "from IPython.display import Markdown, display"
   ]
  },
  {
   "cell_type": "code",
   "execution_count": null,
   "metadata": {},
   "outputs": [],
   "source": [
    "#exemples d'affichage de la définition d'une table\n",
    "display(Markdown(\"Utilisateurs ( <u>UtilisateurId</u> , Prenom, Nom , Pays de residence )\"))\n",
    "\n",
    "display(Markdown(\"Modules ( <u>ModuleId</u> , Nom , Difficulte )\"))\n",
    "display(Markdown(\"Utilisateurs (<u>UtilisateurId</u>, Nom, Prénom, #MetierId )\")) \n",
    "display(Markdown(\"Metiers( <u>MetierId</u>, Nom )\")) \n",
    "display(Markdown(\"L'attribut *MetierId* de la table **Utilisateurs** fait référence à la clé primaire de la table **Metiers** (= clé étrangère). \"))"
   ]
  },
  {
   "cell_type": "code",
   "execution_count": null,
   "metadata": {},
   "outputs": [],
   "source": [
    "#exemple clé composite\n",
    "display(Markdown(\"Candidature(<u>#IdEtudiant</u>, Session, <u>#IdUniversite</u>, Adresse, Nom Parcours)\"))\n",
    "display(Markdown(\"* Un étudiant peut effectuer plusieurs candidatures dans une même université à des parcours différents\"))\n",
    "display(Markdown(\"* L’attribut **IdEtudiant** fait référence à la clé primaire de la table **Etudiants**\"))\n",
    "display(Markdown(\"* L’attribut **IdUniversite** fait référence à la clé primaire de la table **Universite**\"))\n",
    "display(Markdown(\"Etudiants(Nom, Prenom, Adresse, <u>IdEtudiant</u>)\"))\n",
    "display(Markdown(\"Universite (<u>IdUnversite</u>, NomUni, AdresseUniversite, Rang )\"))"
   ]
  },
  {
   "cell_type": "markdown",
   "metadata": {},
   "source": [
    "##### Contraintes\n",
    "Les contraintes permettent de forcer les données à respecter des schémas prédéfinis. On en distingue plusieurs :\n",
    "\n",
    "- La contrainte de domaine : Elle définit quelle valeur peut prendre un attribut, c'est à dire le type de données et des restrictions sur ce type.\n",
    "\n",
    "\n",
    "- La contrainte de clé : Une clé est un groupe d'attributs qui permet d'identifier un tuple de la table. On distingue la clé primaire qui va permettre d'organiser physiquement la relation.\n",
    "\n",
    "\n",
    "- La contrainte de table : C'est une contrainte qui généralise les deux précédentes. Lors de la création d'une table, on ajoutera une contrainte sur les valeurs que peuvent prendre les attributs de cette dernière.\n",
    "\n",
    "\n",
    "- La contrainte d'intégrité référentielle : Un attribut ne peut prendre comme valeur qu'une valeur existante comme clé (primaire ou non) d'une autre relation. Elle interdit donc l'existence d'un tuple qui fait référence à un tuple inexistant dans une autre table."
   ]
  },
  {
   "cell_type": "markdown",
   "metadata": {},
   "source": [
    "## 2. SQL Alchemy"
   ]
  },
  {
   "cell_type": "code",
   "execution_count": null,
   "metadata": {},
   "outputs": [],
   "source": [
    "import sqlite3, sqlalchemy\n",
    "from sqlalchemy import Table, Column, Integer, String, ForeignKey, MetaData, create_engine, text, inspect\n",
    "from IPython.display import Markdown, display"
   ]
  },
  {
   "cell_type": "markdown",
   "metadata": {},
   "source": [
    "SQL Alchemy est une librairie Python très utilisée pour se connecter à un système de gestion de bases de données relationnelles. Il permet d'interpréter du code SQL.\n",
    "\n",
    "On utilisera une base de données SQLite, plus légère et plus simple d'utilisation que la plupart des autres SGDBR.\n",
    "\n",
    "Le premier objet important de ce module est l'engine. Il nous permet de nous connecter à une base de données et d'effectuer des requêtes SQL au format texte.\n",
    "La fonction create_engine crée une connexion avec une base de données. Si elle n'existe pas, la fonction va en créer une.\n",
    "L'argument est une chaîne de caractère qui a le format suivant : 'sqlite:///chemin_vers_la_base_de_donnees.db'"
   ]
  },
  {
   "cell_type": "code",
   "execution_count": null,
   "metadata": {},
   "outputs": [],
   "source": [
    "engine = create_engine('sqlite:///college.db', echo=True)\n",
    "# En ajoutant l'argument echo = True, cela nous permet d'afficher la traduction en langage SQL des commandes du module."
   ]
  },
  {
   "cell_type": "code",
   "execution_count": null,
   "metadata": {},
   "outputs": [],
   "source": [
    "#L'objet créé par la fonction MetaData permet de regrouper plusieurs informations concernant une ou plusieurs bases de données, notamment des informations sur les tables qui la composent.\n",
    "meta = MetaData()"
   ]
  },
  {
   "cell_type": "code",
   "execution_count": null,
   "metadata": {},
   "outputs": [],
   "source": [
    "#Création de table students\n",
    "students = Table(\n",
    "   'students', meta, \n",
    "   Column('id', Integer, primary_key=True), \n",
    "   Column('name', String), \n",
    "   Column('lastname', String),\n",
    ")\n",
    "meta.create_all(engine)\n",
    "\n",
    "# Grâce au echo=True, on peut voir le code utilisé pour créer la table :\n",
    "\n",
    "# CREATE TABLE students (\n",
    "# id INTEGER NOT NULL, \n",
    "# name VARCHAR, \n",
    "# lastname VARCHAR, \n",
    "# PRIMARY KEY (id)\n",
    "# )"
   ]
  },
  {
   "cell_type": "code",
   "execution_count": null,
   "metadata": {},
   "outputs": [],
   "source": [
    "#création table parcours\n",
    "parcours = Table(\n",
    "   'parcours', meta, \n",
    "   Column('id_parcours', Integer, primary_key=True), \n",
    "   Column('name', String), \n",
    "   Column('student_id', Integer, ForeignKey(\"students.id\")),\n",
    ")\n",
    "meta.create_all(engine)"
   ]
  },
  {
   "cell_type": "markdown",
   "metadata": {},
   "source": [
    "On parle de transactions lorsqu'une succession d'opérations nécessitant des accès en lecture ou en écriture est effectuée via un système de gestion de bases de données.\n",
    "\n",
    "\n",
    "Une transaction ACID est une transaction qui respecte les points suivants :\n",
    "- **Atomicité** : une transaction doit être effectuée en entier ou abandonnée, c'est à dire que si une opération est refusée, toutes les opérations de la transaction ne seront pas validées.\n",
    "\n",
    "\n",
    "- **Cohérente** : l'état initial et final doivent être cohérents, c'est à dire respecter les contraintes d'intégrité.\n",
    "\n",
    "\n",
    "- **Isolation** : Une transaction doit s'effectuer indépendamment des transactions qui s'exécutent en même temps, c'est à dire que les états intermédiaires d'une transaction sont cachés aux autres.\n",
    "\n",
    "- **Durabilité** : lorsqu'une transaction est validée, ses effets ne peuvent être perdus."
   ]
  },
  {
   "cell_type": "markdown",
   "metadata": {},
   "source": [
    "##### Insertion de lignes\n",
    "\n",
    "Dans une table, on peut insérer ou supprimer des lignes. \n",
    "\n",
    "Ces opérations sont considérées comme des **<u>transactions<u>** et sont donc soumises aux règles qui assurent la cohérence de la base de données.\n",
    "\n",
    "\n",
    "Pour insérer des tuples, on doit d'abord créer une liste qui contient des tuple. Ces tuple doivent représenter les valeurs des différents attributs de la table : la liste a donc la longueur du nombre de lignes qu'on veut insérer et chaque tuple a le même nombre d'entrées que la table."
   ]
  },
  {
   "cell_type": "code",
   "execution_count": null,
   "metadata": {},
   "outputs": [],
   "source": [
    "values = [(1, \"Jean\", \"Dubois\"), (2, \"Florent\", \"Desbiolles\")]"
   ]
  },
  {
   "cell_type": "markdown",
   "metadata": {},
   "source": [
    "Une transaction a un début et une fin. Le début d'une transaction est indiqué par la fonction begin associée à l'objet Connection.\n",
    "\n",
    "\n",
    "Via cet objet, on pourra appeller la fonction rollback dans le cas où une opération de la transaction n'a pas été autorisée : on revient à l'état initial de la table. Mais aussi la fonction commit qui permet de valider la transaction dans le cas contraire.\n",
    "\n",
    "\n",
    "En Python, ça nous donne la structure suivante :\n",
    "\n",
    "##### on crée la connection     \n",
    "with engine.connect() as connection:\n",
    "    # début de la transaction\n",
    "    with connection.begin() as transaction:\n",
    "        # on tente d'éxécuter une transaction\n",
    "        try:\n",
    "            connection.execute(instruction)\n",
    "        # si la transaction échoue\n",
    "        except:\n",
    "            transaction.rollback()\n",
    "            raise\n",
    "        # si la transaction réussit\n",
    "        else:\n",
    "            transaction.commit()\n",
    "La syntaxe pour ajouter un tuple dans une table est la suivante :\n",
    "\n",
    "INSERT INTO nom_table VALUES tuple\n",
    "\n",
    "\n",
    "Cette commande est en langage SQL, et donc sera au format texte sous python si on souhaite l'exécuter. La valeur doit donc être spécifiée via un paramètre associé. On note 'INSERT OR REPLACE INTO students VALUES ({markers})' où markers sera une variable explicitant le format des tuples que l'on injectera dans la table.\n",
    "\n",
    "\n",
    "Une fois le markers définit, on peut mettre à jour notre requête SQL en texte en modifiant son format, c'est pour que le markers ne soit pas considéré comme une chaîne de caractères mais bien un \"argument\". Ensuite il suffit d'utiliser la fonction execute de l'objet Connection en passant en argument la commande texte SQL et le vecteur de valeur du paramètre associé (ici markers)."
   ]
  },
  {
   "cell_type": "code",
   "execution_count": null,
   "metadata": {},
   "outputs": [],
   "source": [
    "# on crée la connection\n",
    "with engine.connect() as connection:\n",
    "    # début de la transaction\n",
    "    with connection.begin() as transaction:\n",
    "        # on tente d'éxécuter une transaction\n",
    "        try:\n",
    "            # On indique le format d'un tuple de cette table\n",
    "            markers = ','.join('?' * len(values[0])) \n",
    "            \n",
    "            # On utilise le langage SQL en format texte où markers est le format d'un tuple\n",
    "            ins = 'INSERT OR REPLACE INTO {tablename} VALUES ({markers})'\n",
    "            \n",
    "            # On précise ce format particulier grâce à la fonction membre format\n",
    "            ins = ins.format(tablename=students.name, markers=markers)\n",
    "            \n",
    "            # Enfin on peut utiliser les tuples créés en éxécutant la commande SQL\n",
    "            connection.execute(ins, values)\n",
    "        # si la transaction échoue\n",
    "        except:\n",
    "            transaction.rollback()\n",
    "            raise\n",
    "        # si la transaction réussit\n",
    "        else:\n",
    "            transaction.commit()"
   ]
  },
  {
   "cell_type": "code",
   "execution_count": null,
   "metadata": {},
   "outputs": [],
   "source": [
    "#on  ajoute les deux parcours dans la base de données, on veillera à avoir un étudiant inscrit dans chaque parcours.\n"
   ]
  },
  {
   "cell_type": "code",
   "execution_count": null,
   "metadata": {},
   "outputs": [],
   "source": [
    "values_parcours = [(1, \"Data engineering\", 1),(2, \"Data Science\", 2) ]\n",
    "\n",
    "with engine.connect() as connection:\n",
    "    with connection.begin() as transaction:\n",
    "        try:\n",
    "            markers = ','.join('?' * len(values_parcours[0]))\n",
    "            ins = 'INSERT OR REPLACE INTO {tablename} VALUES ({markers})'\n",
    "            \n",
    "            ins = ins.format(tablename=parcours.name, markers=markers)\n",
    "            connection.execute(ins, values_parcours)\n",
    "        except:\n",
    "            transaction.rollback()\n",
    "            raise\n",
    "        else:\n",
    "            transaction.commit()"
   ]
  },
  {
   "cell_type": "code",
   "execution_count": null,
   "metadata": {},
   "outputs": [],
   "source": [
    "# Exécuter la cellule suivante pour vérifier que vous avez bien ajouté les lignes.\n",
    "with engine.connect() as connection:\n",
    "    results = connection.execute(\"SELECT * FROM students;\")\n",
    "    print(results.fetchall())\n",
    "\n",
    "with engine.connect() as connection:\n",
    "    results = connection.execute(\"SELECT * FROM parcours;\")\n",
    "    print(results.fetchall())"
   ]
  },
  {
   "cell_type": "code",
   "execution_count": null,
   "metadata": {},
   "outputs": [],
   "source": [
    "#suppression de table\n",
    "sql = text('DROP TABLE IF EXISTS students;')\n",
    "result = engine.execute(sql)\n",
    "\n",
    "###Vérification que la table students n'existe plus en réutilisant le code d'insertion de tuple\n",
    "\n",
    "#values = [\n",
    "#    (1,\"Jean\", \"Dubois\"),\n",
    "#    (2,\"Florent\", \"Desbiolles\"),\n",
    "#    ]\n",
    "#\n",
    "#with engine.connect() as connection:\n",
    "#    with connection.begin() as transaction:\n",
    "#        try:\n",
    "#            markers = ','.join('?' * len(values[0])) \n",
    "#            ins = 'INSERT INTO students VALUES ({markers})'\n",
    "#            ins = ins.format(tablename=students.name, markers=markers)\n",
    "#            connection.execute(ins, values)\n",
    "#        except:\n",
    "#            transaction.rollback()\n",
    "#            raise\n",
    "#        else:\n",
    "#            transaction.commit()"
   ]
  },
  {
   "cell_type": "markdown",
   "metadata": {},
   "source": [
    "### 3. Exemple d'application (base chinook)"
   ]
  },
  {
   "cell_type": "markdown",
   "metadata": {},
   "source": [
    "sqlalchemy permet de manipuler des bases de données de types différents (Oracle, postgreSQL ...), à travers une seule et même syntaxe."
   ]
  },
  {
   "cell_type": "markdown",
   "metadata": {},
   "source": [
    "Chinook is a sample database available for SQL Server, Oracle, MySQL, etc. It can be created by running a single SQL script. Chinook database is an alternative to the Northwind database, being ideal for demos and testing ORM tools targeting single and multiple database servers."
   ]
  },
  {
   "cell_type": "code",
   "execution_count": null,
   "metadata": {},
   "outputs": [],
   "source": [
    "# import os\n",
    "# path = str(os.getcwd())\n",
    "# print(path)"
   ]
  },
  {
   "cell_type": "code",
   "execution_count": null,
   "metadata": {},
   "outputs": [],
   "source": [
    "import sqlite3, sqlalchemy\n",
    "from sqlalchemy import inspect, create_engine, text\n",
    "\n",
    "engine = create_engine(\"sqlite:///chinook.db\")"
   ]
  },
  {
   "cell_type": "markdown",
   "metadata": {},
   "source": [
    "Une classe très pratique pour afficher des informations sur la base est l'Inspector."
   ]
  },
  {
   "cell_type": "code",
   "execution_count": null,
   "metadata": {},
   "outputs": [],
   "source": [
    "inspector = inspect(engine)"
   ]
  },
  {
   "cell_type": "markdown",
   "metadata": {},
   "source": [
    "A l'aide de cet objet, on va pouvoir récupérer le nom des différentes tables qui constituent la base de données. La méthode get_table_names nous permet de le faire."
   ]
  },
  {
   "cell_type": "code",
   "execution_count": null,
   "metadata": {},
   "outputs": [],
   "source": [
    "inspector.get_table_names()"
   ]
  },
  {
   "cell_type": "code",
   "execution_count": null,
   "metadata": {},
   "outputs": [],
   "source": [
    "print('Tables présentes dans la base de données :\\n', inspect(engine).get_table_names(), '\\n')\n",
    "print(\"Attributs de la table 'albums' :\\n\", inspector.get_columns(table_name='albums'), '\\n')\n",
    "print(\"Foreign key(s) associée(s) à la table 'albums':\\n\", inspector.get_foreign_keys(table_name='albums'), '\\n')"
   ]
  },
  {
   "cell_type": "markdown",
   "metadata": {},
   "source": [
    "##### Pour effectuer des requêtes SQL, on a besoin d'une connexion avec l'objet engine. Pour cela on utilise la méthode connect de l'objet engine. Cette fonction renvoie une instance de la classe Connection."
   ]
  },
  {
   "cell_type": "code",
   "execution_count": null,
   "metadata": {},
   "outputs": [],
   "source": [
    "conn = engine.connect()\n",
    "#On peut désormais utiliser la méthode execute associée à une instance de la classe Connection créée\n",
    "result = conn.execute(\"SELECT Title FROM albums LIMIT 10;\")\n",
    "#Pour obtenir cette requête dans Python, on utilise la méthode fetchall associée à l'instance result de la classe ResultProxy.\n",
    "result.fetchall() \n",
    "#Cette commande renvoie tous les tuples de la table de l'objet ResultProxy"
   ]
  },
  {
   "cell_type": "markdown",
   "metadata": {},
   "source": [
    "##### On utilise la fonction text du module SQLAlchemy pour créer une chaîne de caractères plus adaptée\n",
    "\n",
    "\n",
    "La fonction text permet de spécifier des arguments prenant des valeurs numériques dans une chaîne de caractères. Elle identifie aussi les colonnes en interne et permet aussi d'être utilisé comme sous-requêtes. On prendra l'habitude d'utiliser exclusivement cette fonction pour les requêtes SQL au format texte."
   ]
  },
  {
   "cell_type": "code",
   "execution_count": null,
   "metadata": {},
   "outputs": [],
   "source": [
    "#WHERE\n",
    "ma_requete = text( \"SELECT * FROM albums WHERE albums.ArtistId = 1\")\n",
    "result = conn.execute(ma_requete2)\n",
    "result.fetchall() "
   ]
  },
  {
   "cell_type": "code",
   "execution_count": null,
   "metadata": {},
   "outputs": [],
   "source": [
    "#WHERE ... AND\n",
    "#commandes qui ont un montant supérieur à 20 dollars et inf à 22 doll\n",
    "stmt = text( \"SELECT * FROM invoices WHERE Total > 20 AND Total < 22;\")\n",
    "result = conn.execute(stmt)\n",
    "result.fetchall()"
   ]
  },
  {
   "cell_type": "code",
   "execution_count": null,
   "metadata": {
    "scrolled": true
   },
   "outputs": [],
   "source": [
    "#BETWEEN ... AND\n",
    "#L’opérateur BETWEEN suivi de AND est utilisé dans une requête SQL pour sélectionner un intervalle de données dans une requête utilisant WHERE\n",
    "#Afficher les identifiants, le pays dans lequel a été effectué le paiement et le montant des factures dont le montant est compris entre 10 et 20 dollars.\n",
    "stmt = text( \"SELECT InvoiceId, BillingCountry, Total FROM invoices WHERE Total BETWEEN 10 AND 20;\")\n",
    "result = conn.execute(stmt)\n",
    "result.fetchall()"
   ]
  },
  {
   "cell_type": "markdown",
   "metadata": {},
   "source": [
    "##### Expressions régulières\n",
    "\n",
    "\n",
    "| Expression régulière | Decription |\n",
    "| --- | --- |\n",
    "| .\t| correspond à n'importe quel caractère seul |\n",
    "| *\t| correspond à n'importe quel caractère |\n",
    "| +\t| correspond à au moins une instance de l'expression précédente |\n",
    "| ^\t| correspond à un commencement en début de ligne |\n",
    "| $\t| recherche à la fin de la ligne |\n",
    "| <\t| correspondance uniquement si le mot commence en ce point |\n",
    "| >\t| correspondance uniquement si le mot finit en ce point |\n",
    "| \\n | correspondance si il y a un retour à la ligne |\n",
    "| [ ] | correspondance si il y a présence de n'importe quel des caractères entre crochets |\n",
    "| [^...] |  correspondance avec n'importe quel caractère listé après ^ |\n",
    "| [ABQ]% | la chaîne de caractères doit commencer par un A , B ou Q et peut être de n'importe quelle longueur |\n",
    "| [AB][CD]% | la chaîne de caractères doit commencer par un A ou B et le deuxième caractère doit être C ou D |\n",
    "| [A-Z]% | la chaîne doit commencer par un caractère de A à Z et peut être de n'importe quelle longueur |\n",
    "| [A-Z0-9]% | la chaîne doit commencer par un lettre de A à Z ou un chiffre de 0 à 9 et peut être de n'importe quelle longueur |\n",
    "| [^A-C]% | la chaîne ne peut pas commencer par un caractère de A à C mais peut être de n'importe quelle longueur |\n",
    "| %[A-Z] | la chaîne de caractère doit se terminer par un caractère de A à Z et peut être de n'importe quelle longueur |\n",
    "| %[%\\$#@]% | la chaine de caractères peut être de n'importe quelle longueur et doit au moins avoir une correspondance avec un caractère entre crochets |"
   ]
  },
  {
   "cell_type": "markdown",
   "metadata": {},
   "source": [
    "On présente ici la façon la plus flexible d'utiliser des expressions régulières avec SQL, à savoir l'utilisation du mot clé LIKE et des Wildcards.\n",
    "\n",
    "On distingue 2 types de caractères spéciaux comme Wildcards :\n",
    "\n",
    "- le % désigne n'importe quelle combinaison de caractère de n'importe quelle longueur.\n",
    "- le _ désigne n'importe quel caractère unique.\n",
    "\n",
    "Voici un exemple de modèle : P% qui aura une correspondance avec n'importe quelle chaîne de caractères qui commence par un P. On peut aussi utiliser ce modèle %P% qui aura une correspondance avec n'importe quelle chaîne de caractères qui contient un P. Dans une requête SQL, cela donne :\n",
    "\n",
    "\n",
    "**SELECT * FROM table1 WHERE colonne1 LIKE '%P';**\n"
   ]
  },
  {
   "cell_type": "code",
   "execution_count": null,
   "metadata": {},
   "outputs": [],
   "source": [
    "#WHERE ... LIKE\n",
    "#Chercher les tuples dans la table tracks dont le titre de la musique contient Wild\n",
    "stmt = text ( \"SELECT * FROM tracks WHERE Name LIKE '%Wild%';\")\n",
    "result = conn.execute(stmt)\n",
    "result.fetchall()"
   ]
  },
  {
   "cell_type": "code",
   "execution_count": null,
   "metadata": {},
   "outputs": [],
   "source": [
    "#WHERE ... LIKE ... AND\n",
    "#Afficher les musiques composées par Freddie Mercury ou en collaboration avec d'autres artistes.\n",
    "stmt = text ( \"SELECT tracks.Name, tracks.Composer FROM tracks WHERE Composer LIKE '%Freddie%' AND Composer LIKE '%Mercury%'\" )\n",
    "result = conn.execute(stmt)\n",
    "result.fetchall()"
   ]
  },
  {
   "cell_type": "code",
   "execution_count": null,
   "metadata": {},
   "outputs": [],
   "source": [
    "#WHERE ... LIKE ... AND (LIKE ... AND ... NOT LIKE)\n",
    "#Afficher les musiques dont le titre commence par un P et qui sont issues d'une association d'artistes.\n",
    "#Indice : Pour une association d'artistes, le nom est séparé par un / ou - à l'exception du groupe AC/DC.\n",
    "stmt = text ( \"SELECT tracks.Name, tracks.Composer FROM tracks\"\n",
    "             \" WHERE Name LIKE 'P%' AND ((Composer LIKE '%/%' AND Composer NOT LIKE '__/__')OR Composer LIKE '%-%') \")\n",
    "result = conn.execute(stmt)\n",
    "result.fetchall()"
   ]
  },
  {
   "cell_type": "code",
   "execution_count": null,
   "metadata": {},
   "outputs": [],
   "source": [
    "#ORDER BY\n",
    "# On peut simplement ajouter les noms des attributs à extraire les uns à la suite des autres séparés par une virgule\n",
    "stmt = text ( \"SELECT InvoiceId, CustomerId, Total FROM invoices ORDER BY Total DESC LIMIT 10;\")\n",
    "result = conn.execute(stmt)\n",
    "result.fetchall()"
   ]
  },
  {
   "cell_type": "code",
   "execution_count": null,
   "metadata": {},
   "outputs": [],
   "source": [
    "#GROUP BY\n",
    "#montant total (SUM) des commandes par identifiant client CustomerId).\n",
    "# on a aussi choisi de classer les résultats par montant total décroissant\n",
    "stmt = text ( \"SELECT invoices.CustomerId , SUM(Total) AS tot FROM invoices GROUP BY CustomerId ORDER BY tot DESC;\")\n",
    "result = conn.execute(stmt)\n",
    "result.fetchall()"
   ]
  },
  {
   "cell_type": "code",
   "execution_count": null,
   "metadata": {},
   "outputs": [],
   "source": [
    "#AVG\n",
    "#AS\n",
    "#Le mot clé AS est utilisé pour renommer une table ou une colonne de table. C'est ce qu'on appelle l'Alias.\n",
    "#moyenne de prix des commandes par pays, et renommer la nouvelle colonne par PaysMoy\n",
    "stmt = text ( \"SELECT BillingCountry, AVG(Total) AS PaysMoy FROM invoices GROUP BY BillingCountry \" )\n",
    "result = conn.execute(stmt)\n",
    "result.fetchall()"
   ]
  },
  {
   "cell_type": "code",
   "execution_count": null,
   "metadata": {},
   "outputs": [],
   "source": [
    "#MAX\n",
    "#commande la plus chère effectuée par pays et ranger ces valeurs par ordre décroissant.\n",
    "stmt = text ( \"SELECT BillingCountry, MAX(Total) AS tot FROM invoices GROUP BY BillingCountry ORDER BY tot DESC \" )\n",
    "result = conn.execute(stmt)\n",
    "result.fetchall()"
   ]
  },
  {
   "cell_type": "code",
   "execution_count": null,
   "metadata": {},
   "outputs": [],
   "source": [
    "#COUNT(*)\n",
    "#nombre de commandes effectuées par pays.\n",
    "stmt = text ( \"SELECT BillingCountry, COUNT(*) AS p FROM invoices GROUP BY BillingCountry ORDER BY p\")\n",
    "result = conn.execute(stmt)\n",
    "result.fetchall()"
   ]
  },
  {
   "cell_type": "code",
   "execution_count": null,
   "metadata": {},
   "outputs": [],
   "source": [
    "#clés d'aggrégation multiples\n",
    "#nombre de commandes effectuées par pays et par ville:\n",
    "# Chaque paire (PAYS, VILLE) existant dans la base est représentée.\n",
    "stmt = text ( \"SELECT BillingCountry, BillingCity, COUNT(InvoiceId)\"\n",
    "             \" FROM invoices GROUP BY BillingCountry, BillingCity\" )\n",
    "result = conn.execute(stmt)\n",
    "result.fetchall()"
   ]
  },
  {
   "cell_type": "code",
   "execution_count": null,
   "metadata": {
    "scrolled": true
   },
   "outputs": [],
   "source": [
    "#HAVING (toujours précédée d'un GROUP BY)\n",
    "# Cette clause fonctionne exactement comme la clause WHERE mais pour des fonctions d'agrégats. \n",
    "#Elle permet de spécifier un prédicat sur le résultat d'un GROUP BY, elle est donc forcément précédée par cette dernière clause.\n",
    "# Si on utilise la clause WHERE, on élimine des lignes avant l'agrégation.\n",
    "#identifiant des clients qui ont un nombre de commandes supérieur à 5. Ranger ces valeurs par ordre croissant.\n",
    "stmt = text (\"SELECT CustomerId, COUNT(CustomerId) AS tot FROM invoices GROUP BY CustomerId \"\n",
    "             \"HAVING tot > 5 ORDER BY tot\" )\n",
    "result = conn.execute(stmt)\n",
    "result.fetchall()"
   ]
  },
  {
   "cell_type": "code",
   "execution_count": null,
   "metadata": {
    "scrolled": true
   },
   "outputs": [],
   "source": [
    "#HAVING (toujours précédée d'un GROUP BY)\n",
    "#liste des clients dont le montant total des commandes est supérieur à 20 dollars.\n",
    "stmt = text ( \"SELECT CustomerId, SUM(Total) AS tot FROM invoices GROUP BY CustomerId HAVING tot > 20;\" )\n",
    "result = conn.execute(stmt)\n",
    "result.fetchall()"
   ]
  },
  {
   "cell_type": "code",
   "execution_count": null,
   "metadata": {},
   "outputs": [],
   "source": [
    "#HAVING (toujours précédée d'un GROUP BY)\n",
    "# Le WHERE agit par ligne, le HAVING agit par aggrégat\n",
    "#liste des clients et le montant total de leurs commandes dont le montant est supérieur à 20 dollars.\n",
    "stmt = text ( \"SELECT CustomerId, SUM(Total) AS tot FROM invoices WHERE Total > 20 GROUP BY CustomerId \" )\n",
    "result = conn.execute(stmt)\n",
    "result.fetchall()"
   ]
  },
  {
   "cell_type": "markdown",
   "metadata": {},
   "source": [
    "### 4. SQL Avancé"
   ]
  },
  {
   "cell_type": "markdown",
   "metadata": {},
   "source": [
    "##### Requêtes imbriquées"
   ]
  },
  {
   "cell_type": "code",
   "execution_count": null,
   "metadata": {},
   "outputs": [],
   "source": [
    "'''\n",
    "La première requête récupère les IDs des 10 clients avec les plus gros montants.\n",
    "La deuxième requête classe ces résultats par ordre croissant.\n",
    "'''\n",
    "stmt = text(\"SELECT * FROM \" #on créé ensuite la table temporare via une requete sql entre ()\n",
    "            \"(SELECT CustomerId, SUM(Total) AS total FROM invoices \"\n",
    "            \"GROUP BY CustomerId ORDER BY Total DESC LIMIT 10) table_temp \"\n",
    "            \"ORDER BY Total\")\n",
    "result = conn.execute(stmt)\n",
    "result.fetchall()\n",
    "#Dans cet exemple, on a une première requête entre parenthèses. \n",
    "#Cette requête est suivie du nom que l'on donne à la table temporaire table_temp\n",
    "#La structure de la requête est ici :\n",
    "#SELECT * FROM (SELECT * FROM table1) nom_de_la_table_temporaire;"
   ]
  },
  {
   "cell_type": "markdown",
   "metadata": {},
   "source": [
    "##### Jointures"
   ]
  },
  {
   "cell_type": "code",
   "execution_count": null,
   "metadata": {
    "scrolled": true
   },
   "outputs": [],
   "source": [
    "#Produit cartésien ou CROSS JOIN\n",
    "stmt = text( \"SELECT * FROM tracks CROSS JOIN genres LIMIT 30\")\n",
    "result = conn.execute(stmt)\n",
    "result.fetchall()"
   ]
  },
  {
   "cell_type": "code",
   "execution_count": null,
   "metadata": {},
   "outputs": [],
   "source": [
    "#Jointure interne ou INNER JOIN\n",
    "#Ce type de jointure va permettre de concaténer les tuples des 2 tables deux à deux si une condition est satisfaite.\n",
    "stmt = text ( \"SELECT * FROM artists INNER JOIN albums ON artists.ArtistId = albums.ArtistId LIMIT 10;\" )\n",
    "result = conn.execute(stmt)\n",
    "result.fetchall()"
   ]
  },
  {
   "cell_type": "code",
   "execution_count": null,
   "metadata": {},
   "outputs": [],
   "source": [
    "#Jointure à droite ou RIGHT JOIN (mmem chose en sens inverse pour LEFT JOIN)\n",
    "#La jointure à droite n'est pas supporté par le module SQLAlchemy\n",
    "#La jointure à gauche ou LEFT JOIN est une jointure entre 2 tables qui permet de retourner tous les \n",
    "#enregistrements de la table de gauche même s’il n’y a pas de correspondance avec la table de droitee\n",
    "stmt =text (\"SELECT * FROM (SELECT CustomerId, Total  FROM 'invoices' WHERE InvoiceId BETWEEN 21 AND 40) AS A \"\n",
    "            \"LEFT JOIN (SELECT CustomerId, Total FROM 'invoices' \"\n",
    "            \"WHERE InvoiceId BETWEEN 1 AND 20) AS B ON A.CustomerId=B.CustomerId\")\n",
    "result = conn.execute(stmt)\n",
    "result.fetchall()"
   ]
  },
  {
   "cell_type": "markdown",
   "metadata": {},
   "source": [
    "##### Modifier une table"
   ]
  },
  {
   "cell_type": "markdown",
   "metadata": {},
   "source": [
    "Jusqu'à présent, nous avons vu comment faire des requêtes pour récupérer des données. Mais on peut vouloir modifier ou supprimer des lignes. \n",
    "\n",
    "En connaissant comment récupérer des données, on peut faire des modifications précises. On ne proposera pas d'exercice de modification dans ce cours pour ne pas risquer de casser la base de données mais vous pouvez essayer de votre côté, à vos risques et périls.\n",
    "\n",
    "###### Modifier une ligne avec SET et UPDATE\n",
    "On peut utiliser UPDATE et SET pour modifier une ou plusieurs ligne(s).\n",
    "Par exemple, si on veut modifier la colonne colonne1 pour qu'elle prenne la valeur nouvelle_valeur lorsque la colonne colonne2 vaut valeur, on peut écrire :\n",
    "\n",
    "UPDATE table1\n",
    "SET colonne1 = nouvelle_valeur WHERE colonne2 = valeur;\n",
    "\n",
    "\n",
    "###### Supprimer des lignes avec DELETE\n",
    "Sur le même principe, on peut supprimer les lignes pour lesquelles la colonne colonne2 vaut valeur en faisant :\n",
    "\n",
    "DELETE FROM table WHERE colonne2 = valeur;"
   ]
  },
  {
   "cell_type": "code",
   "execution_count": null,
   "metadata": {},
   "outputs": [],
   "source": []
  },
  {
   "cell_type": "code",
   "execution_count": null,
   "metadata": {},
   "outputs": [],
   "source": []
  },
  {
   "cell_type": "code",
   "execution_count": null,
   "metadata": {},
   "outputs": [],
   "source": []
  },
  {
   "cell_type": "code",
   "execution_count": null,
   "metadata": {},
   "outputs": [],
   "source": [
    "======== Tables présentes dans la base de données =========\n",
    "'crew', 'episodes', 'people', 'ratings', 'titles'\n",
    "\n",
    "====== Attributs de la table crew :  ======\n",
    "'title_id', 'person_id', 'category', 'job', 'characters'\n",
    "\n",
    "====== Attributs de la table episodes :  ======\n",
    "'episode_title_id', 'show_title_id', 'season_number', 'eposide_number' \n",
    "\n",
    "====== Attributs de la table people :  ======\n",
    "'person_id', 'name', 'born', 'died'\n",
    "\n",
    "====== Attributs de la table ratings :  ======\n",
    "'title_id', 'rating', 'votes'\n",
    "\n",
    "====== Attributs de la table titles :  ======\n",
    "'title_id', 'type', 'primary_title', 'original_title', 'is_adult', \n",
    "'premiered', 'ended', 'runtime_minutes', 'genres'\n"
   ]
  },
  {
   "cell_type": "markdown",
   "metadata": {},
   "source": [
    "# Examen"
   ]
  },
  {
   "cell_type": "code",
   "execution_count": 1,
   "metadata": {},
   "outputs": [],
   "source": [
    "import sqlite3, sqlalchemy\n",
    "from sqlalchemy import Table, Column, Integer, String, Float, ForeignKey, MetaData, create_engine, text, inspect\n",
    "from IPython.display import Markdown, display"
   ]
  },
  {
   "cell_type": "code",
   "execution_count": 2,
   "metadata": {},
   "outputs": [
    {
     "name": "stdout",
     "output_type": "stream",
     "text": [
      "2021-08-25 06:09:02,152 INFO sqlalchemy.engine.base.Engine SELECT CAST('test plain returns' AS VARCHAR(60)) AS anon_1\n",
      "2021-08-25 06:09:02,159 INFO sqlalchemy.engine.base.Engine ()\n",
      "2021-08-25 06:09:02,168 INFO sqlalchemy.engine.base.Engine SELECT CAST('test unicode returns' AS VARCHAR(60)) AS anon_1\n",
      "2021-08-25 06:09:02,172 INFO sqlalchemy.engine.base.Engine ()\n",
      "2021-08-25 06:09:02,178 INFO sqlalchemy.engine.base.Engine PRAGMA main.table_info(\"Boissons\")\n",
      "2021-08-25 06:09:02,181 INFO sqlalchemy.engine.base.Engine ()\n",
      "2021-08-25 06:09:02,189 INFO sqlalchemy.engine.base.Engine PRAGMA temp.table_info(\"Boissons\")\n",
      "2021-08-25 06:09:02,193 INFO sqlalchemy.engine.base.Engine ()\n",
      "2021-08-25 06:09:02,201 INFO sqlalchemy.engine.base.Engine \n",
      "CREATE TABLE \"Boissons\" (\n",
      "\t\"BoissonId\" INTEGER NOT NULL, \n",
      "\t\"Nom\" VARCHAR, \n",
      "\t\"Contenance\" INTEGER, \n",
      "\t\"Prix\" FLOAT, \n",
      "\tPRIMARY KEY (\"BoissonId\")\n",
      ")\n",
      "\n",
      "\n",
      "2021-08-25 06:09:02,202 INFO sqlalchemy.engine.base.Engine ()\n",
      "2021-08-25 06:09:02,215 INFO sqlalchemy.engine.base.Engine COMMIT\n"
     ]
    }
   ],
   "source": [
    "engine = create_engine('sqlite:///Distributeur.db', echo=True)\n",
    "meta = MetaData()\n",
    "\n",
    "#Création de table Boisson\n",
    "Boissons = Table(\n",
    "   'Boissons', meta, \n",
    "   Column('BoissonId', Integer, primary_key=True), \n",
    "   Column('Nom', String), \n",
    "   Column('Contenance', Integer),\n",
    "    Column('Prix', Float),\n",
    ")\n",
    "meta.create_all(engine)\n"
   ]
  },
  {
   "cell_type": "code",
   "execution_count": 3,
   "metadata": {},
   "outputs": [
    {
     "name": "stdout",
     "output_type": "stream",
     "text": [
      "2021-08-25 06:09:02,884 INFO sqlalchemy.engine.base.Engine BEGIN (implicit)\n",
      "2021-08-25 06:09:02,892 INFO sqlalchemy.engine.base.Engine INSERT OR REPLACE INTO Boissons VALUES (?,?,?,?)\n",
      "2021-08-25 06:09:02,895 INFO sqlalchemy.engine.base.Engine [(1, 'Coca', 33, 0.99), (2, 'Perrier', 100, 2), (3, 'Perrier', 33, 1), (4, 'Vittel', 150, 1.5), (5, 'Badoit', 50, 2)]\n",
      "2021-08-25 06:09:02,902 INFO sqlalchemy.engine.base.Engine COMMIT\n"
     ]
    }
   ],
   "source": [
    "values = [(1, 'Coca', 33, 0.99), (2, 'Perrier', 100, 2), (3, 'Perrier', 33, 1), \n",
    "          (4, 'Vittel', 150, 1.50), (5, 'Badoit', 50, 2)]\n",
    "\n",
    "# on crée la connection\n",
    "with engine.connect() as connection:\n",
    "    # début de la transaction\n",
    "    with connection.begin() as transaction:\n",
    "        # on tente d'éxécuter une transaction\n",
    "        try:\n",
    "            # On indique le format d'un tuple de cette table\n",
    "            markers = ','.join('?' * len(values[0])) \n",
    "            \n",
    "            # On utilise le langage SQL en format texte où markers est le format d'un tuple\n",
    "            ins = 'INSERT OR REPLACE INTO {tablename} VALUES ({markers})'\n",
    "            \n",
    "            # On précise ce format particulier grâce à la fonction membre format\n",
    "            ins = ins.format(tablename=Boissons.name, markers=markers)\n",
    "            \n",
    "            # Enfin on peut utiliser les tuples créés en éxécutant la commande SQL\n",
    "            connection.execute(ins, values)\n",
    "        # si la transaction échoue\n",
    "        except:\n",
    "            transaction.rollback()\n",
    "            raise\n",
    "        # si la transaction réussit\n",
    "        else:\n",
    "            transaction.commit()"
   ]
  },
  {
   "cell_type": "code",
   "execution_count": 4,
   "metadata": {},
   "outputs": [
    {
     "name": "stdout",
     "output_type": "stream",
     "text": [
      "2021-08-25 06:09:03,636 INFO sqlalchemy.engine.base.Engine PRAGMA main.table_info(\"Boissons\")\n",
      "2021-08-25 06:09:03,637 INFO sqlalchemy.engine.base.Engine ()\n",
      "2021-08-25 06:09:03,640 INFO sqlalchemy.engine.base.Engine PRAGMA main.table_info(\"Facture\")\n",
      "2021-08-25 06:09:03,642 INFO sqlalchemy.engine.base.Engine ()\n",
      "2021-08-25 06:09:03,645 INFO sqlalchemy.engine.base.Engine PRAGMA temp.table_info(\"Facture\")\n",
      "2021-08-25 06:09:03,647 INFO sqlalchemy.engine.base.Engine ()\n",
      "2021-08-25 06:09:03,652 INFO sqlalchemy.engine.base.Engine \n",
      "CREATE TABLE \"Facture\" (\n",
      "\t\"FactureId\" INTEGER NOT NULL, \n",
      "\t\"BoissId\" INTEGER, \n",
      "\t\"Heure\" INTEGER, \n",
      "\tPRIMARY KEY (\"FactureId\"), \n",
      "\tFOREIGN KEY(\"BoissId\") REFERENCES \"Boissons\" (\"BoissonId\")\n",
      ")\n",
      "\n",
      "\n",
      "2021-08-25 06:09:03,654 INFO sqlalchemy.engine.base.Engine ()\n",
      "2021-08-25 06:09:03,662 INFO sqlalchemy.engine.base.Engine COMMIT\n"
     ]
    }
   ],
   "source": [
    "#Création de table Facture\n",
    "Facture = Table(\n",
    "   'Facture', meta, \n",
    "   Column('FactureId', Integer, primary_key=True), \n",
    "   Column('BoissId', Integer, ForeignKey(\"Boissons.BoissonId\")), \n",
    "   Column('Heure', Integer),\n",
    ")\n",
    "meta.create_all(engine)"
   ]
  },
  {
   "cell_type": "code",
   "execution_count": 5,
   "metadata": {},
   "outputs": [
    {
     "name": "stdout",
     "output_type": "stream",
     "text": [
      "2021-08-25 06:09:04,385 INFO sqlalchemy.engine.base.Engine BEGIN (implicit)\n",
      "2021-08-25 06:09:04,388 INFO sqlalchemy.engine.base.Engine INSERT OR REPLACE INTO Facture VALUES (?,?,?)\n",
      "2021-08-25 06:09:04,390 INFO sqlalchemy.engine.base.Engine [(1, 1, 7), (2, 1, 8), (3, 4, 12)]\n",
      "2021-08-25 06:09:04,397 INFO sqlalchemy.engine.base.Engine COMMIT\n"
     ]
    }
   ],
   "source": [
    "values = [(1, 1, 7), (2, 1, 8), (3, 4, 12)]\n",
    "\n",
    "# on crée la connection\n",
    "with engine.connect() as connection:\n",
    "    # début de la transaction\n",
    "    with connection.begin() as transaction:\n",
    "        # on tente d'éxécuter une transaction\n",
    "        try:\n",
    "            # On indique le format d'un tuple de cette table\n",
    "            markers = ','.join('?' * len(values[0])) \n",
    "            \n",
    "            # On utilise le langage SQL en format texte où markers est le format d'un tuple\n",
    "            ins = 'INSERT OR REPLACE INTO {tablename} VALUES ({markers})'\n",
    "            \n",
    "            # On précise ce format particulier grâce à la fonction membre format\n",
    "            ins = ins.format(tablename=Facture.name, markers=markers)\n",
    "            \n",
    "            # Enfin on peut utiliser les tuples créés en éxécutant la commande SQL\n",
    "            connection.execute(ins, values)\n",
    "        # si la transaction échoue\n",
    "        except:\n",
    "            transaction.rollback()\n",
    "            raise\n",
    "        # si la transaction réussit\n",
    "        else:\n",
    "            transaction.commit()"
   ]
  },
  {
   "cell_type": "code",
   "execution_count": 6,
   "metadata": {},
   "outputs": [
    {
     "data": {
      "text/plain": [
       "\"On ne peut pas supprimer la table Boissons tant que l'argument Boisson.BoissonId est présent dans la table Facture en tant que clé étrangère\""
      ]
     },
     "execution_count": 6,
     "metadata": {},
     "output_type": "execute_result"
    }
   ],
   "source": [
    "'''On ne peut pas supprimer la table Boissons tant que l'argument Boisson.BoissonId est présent dans la table Facture en tant que clé étrangère'''"
   ]
  },
  {
   "cell_type": "code",
   "execution_count": 7,
   "metadata": {},
   "outputs": [
    {
     "data": {
      "text/plain": [
       "\"On ne peut pas rajouter ce tuple puisque l'argument BoissonId est clé primaire de la table Boissons, et la valeur BoissonId=1 existe déjà. Or on sait que les valeurs des clés primaires doivent être uniques\""
      ]
     },
     "execution_count": 7,
     "metadata": {},
     "output_type": "execute_result"
    }
   ],
   "source": [
    "'''On ne peut pas rajouter ce tuple puisque l'argument BoissonId est clé primaire de la table Boissons, et la valeur BoissonId=1 existe déjà. Or on sait que les valeurs des clés primaires doivent être uniques'''"
   ]
  },
  {
   "cell_type": "code",
   "execution_count": 8,
   "metadata": {},
   "outputs": [
    {
     "name": "stdout",
     "output_type": "stream",
     "text": [
      "2021-08-25 06:09:06,387 INFO sqlalchemy.engine.base.Engine SELECT BoissonId, Nom FROM Boissons WHERE BoissonId NOT IN (SELECT BoissId From Facture)\n",
      "2021-08-25 06:09:06,390 INFO sqlalchemy.engine.base.Engine ()\n"
     ]
    },
    {
     "data": {
      "text/plain": [
       "[(2, 'Perrier'), (3, 'Perrier'), (5, 'Badoit')]"
      ]
     },
     "execution_count": 8,
     "metadata": {},
     "output_type": "execute_result"
    }
   ],
   "source": [
    "#quelles boissons du ditrib n'ont pas été vendues ?\n",
    "conn = engine.connect()\n",
    "\n",
    "stmt = text(\"SELECT BoissonId, Nom FROM Boissons \"\n",
    "            \"WHERE BoissonId NOT IN (SELECT BoissId From Facture)\")\n",
    "result = conn.execute(stmt)\n",
    "result.fetchall() "
   ]
  },
  {
   "cell_type": "code",
   "execution_count": 9,
   "metadata": {
    "scrolled": true
   },
   "outputs": [
    {
     "name": "stdout",
     "output_type": "stream",
     "text": [
      "2021-08-25 06:09:07,282 INFO sqlalchemy.engine.base.Engine SELECT BoissonId, Nom, COUNT(*) * 100.0 / SUM(COUNT(*)) over()FROM Facture LEFT JOIN Boissons ON Facture.BoissId = Boissons.BoissonId GROUP BY BoissonId\n",
      "2021-08-25 06:09:07,284 INFO sqlalchemy.engine.base.Engine ()\n"
     ]
    },
    {
     "data": {
      "text/plain": [
       "[(1, 'Coca', 66.66666666666667), (4, 'Vittel', 33.333333333333336)]"
      ]
     },
     "execution_count": 9,
     "metadata": {},
     "output_type": "execute_result"
    }
   ],
   "source": [
    "#quelle proportion des différentes boissons vendues ?\n",
    "stmt = text ( \"SELECT BoissonId, Nom, COUNT(*) * 100.0 / SUM(COUNT(*)) over()\"\n",
    "             \"FROM Facture LEFT JOIN Boissons \"\n",
    "             \"ON Facture.BoissId = Boissons.BoissonId GROUP BY BoissonId\" )\n",
    "result = conn.execute(stmt)\n",
    "result.fetchall() \n",
    "\n"
   ]
  },
  {
   "cell_type": "code",
   "execution_count": 10,
   "metadata": {},
   "outputs": [
    {
     "name": "stdout",
     "output_type": "stream",
     "text": [
      "2021-08-25 06:09:08,180 INFO sqlalchemy.engine.base.Engine DROP TABLE IF EXISTS Boissons;\n",
      "2021-08-25 06:09:08,188 INFO sqlalchemy.engine.base.Engine ()\n",
      "2021-08-25 06:09:08,197 INFO sqlalchemy.engine.base.Engine COMMIT\n",
      "2021-08-25 06:09:08,201 INFO sqlalchemy.engine.base.Engine DROP TABLE IF EXISTS Facture;\n",
      "2021-08-25 06:09:08,204 INFO sqlalchemy.engine.base.Engine ()\n",
      "2021-08-25 06:09:08,212 INFO sqlalchemy.engine.base.Engine COMMIT\n"
     ]
    }
   ],
   "source": [
    "#supprimer les 2 tables\n",
    "sql = text('DROP TABLE IF EXISTS Boissons;')\n",
    "result = engine.execute(sql)\n",
    "\n",
    "sql = text('DROP TABLE IF EXISTS Facture;')\n",
    "result = engine.execute(sql)"
   ]
  },
  {
   "cell_type": "code",
   "execution_count": 11,
   "metadata": {},
   "outputs": [],
   "source": [
    "def tables_scheme():\n",
    "    print_list = []\n",
    "    for t in meta.sorted_tables:\n",
    "        list_col_PK = []\n",
    "        list_col_FK = []\n",
    "        list_col = []\n",
    "        for c in t.columns:\n",
    "            if c.primary_key==True:\n",
    "                col = c.key\n",
    "                list_col_PK.append(col)\n",
    "            elif c.foreign_keys:\n",
    "                col = str('#')+c.key\n",
    "                list_col_FK.append(col)\n",
    "            else:\n",
    "                col = c.key\n",
    "                list_col.append(col)\n",
    "        list_col_FK.extend(list_col)\n",
    "        print_list.append(Markdown(\"{} (<u>{}</u>, {})\".format(t, \", \".join(list_col_PK),\n",
    "                                                               \", \".join(list_col_FK))))\n",
    "    return print_list"
   ]
  },
  {
   "cell_type": "code",
   "execution_count": 12,
   "metadata": {},
   "outputs": [
    {
     "name": "stdout",
     "output_type": "stream",
     "text": [
      "Engine(sqlite:///Distributeur.db)\n"
     ]
    },
    {
     "data": {
      "text/markdown": [
       "Boissons (<u>BoissonId</u>, Nom, Contenance, Prix)"
      ],
      "text/plain": [
       "<IPython.core.display.Markdown object>"
      ]
     },
     "metadata": {},
     "output_type": "display_data"
    },
    {
     "data": {
      "text/markdown": [
       "Facture (<u>FactureId</u>, #BoissId, Heure)"
      ],
      "text/plain": [
       "<IPython.core.display.Markdown object>"
      ]
     },
     "metadata": {},
     "output_type": "display_data"
    }
   ],
   "source": [
    "print(engine)\n",
    "for table_scheme in tables_scheme():\n",
    "    display(table_scheme)"
   ]
  },
  {
   "cell_type": "markdown",
   "metadata": {},
   "source": [
    "### Exercice 2"
   ]
  },
  {
   "cell_type": "code",
   "execution_count": 13,
   "metadata": {},
   "outputs": [
    {
     "name": "stdout",
     "output_type": "stream",
     "text": [
      "2021-08-25 06:09:12,438 INFO sqlalchemy.engine.base.Engine SELECT CAST('test plain returns' AS VARCHAR(60)) AS anon_1\n",
      "2021-08-25 06:09:12,440 INFO sqlalchemy.engine.base.Engine ()\n",
      "2021-08-25 06:09:12,443 INFO sqlalchemy.engine.base.Engine SELECT CAST('test unicode returns' AS VARCHAR(60)) AS anon_1\n",
      "2021-08-25 06:09:12,444 INFO sqlalchemy.engine.base.Engine ()\n",
      "2021-08-25 06:09:12,445 INFO sqlalchemy.engine.base.Engine PRAGMA main.table_info(\"Boissons\")\n",
      "2021-08-25 06:09:12,447 INFO sqlalchemy.engine.base.Engine ()\n",
      "2021-08-25 06:09:12,450 INFO sqlalchemy.engine.base.Engine PRAGMA temp.table_info(\"Boissons\")\n",
      "2021-08-25 06:09:12,454 INFO sqlalchemy.engine.base.Engine ()\n",
      "2021-08-25 06:09:12,457 INFO sqlalchemy.engine.base.Engine \n",
      "CREATE TABLE \"Boissons\" (\n",
      "\t\"BoissonId\" INTEGER NOT NULL, \n",
      "\t\"Nom\" VARCHAR, \n",
      "\t\"Contenance\" INTEGER, \n",
      "\t\"Prix\" FLOAT, \n",
      "\tPRIMARY KEY (\"BoissonId\")\n",
      ")\n",
      "\n",
      "\n",
      "2021-08-25 06:09:12,457 INFO sqlalchemy.engine.base.Engine ()\n",
      "2021-08-25 06:09:12,466 INFO sqlalchemy.engine.base.Engine COMMIT\n"
     ]
    }
   ],
   "source": [
    "#a) connecxion\n",
    "engine = create_engine('sqlite:///newIMDB.db', echo=True)\n",
    "meta = MetaData()"
   ]
  },
  {
   "cell_type": "code",
   "execution_count": 14,
   "metadata": {},
   "outputs": [
    {
     "name": "stdout",
     "output_type": "stream",
     "text": [
      "Engine(sqlite:///newIMDB.db)\n"
     ]
    },
    {
     "data": {
      "text/markdown": [
       "Boissons (<u>BoissonId</u>, Nom, Contenance, Prix)"
      ],
      "text/plain": [
       "<IPython.core.display.Markdown object>"
      ]
     },
     "metadata": {},
     "output_type": "display_data"
    }
   ],
   "source": [
    "def tables_scheme():\n",
    "    print_list = []\n",
    "    for t in meta.sorted_tables:\n",
    "        list_col_PK = []\n",
    "        list_col_FK = []\n",
    "        list_col = []\n",
    "        for c in t.columns:\n",
    "            if c.primary_key==True:\n",
    "                col = c.key\n",
    "                list_col_PK.append(col)\n",
    "            elif c.foreign_keys:\n",
    "                col = str('#')+c.key\n",
    "                list_col_FK.append(col)\n",
    "            else:\n",
    "                col = c.key\n",
    "                list_col.append(col)\n",
    "        list_col_FK.extend(list_col)\n",
    "        print_list.append(Markdown(\"{} (<u>{}</u>, {})\".format(t, \", \".join(list_col_PK),\n",
    "                                                               \", \".join(list_col_FK))))\n",
    "    return print_list\n",
    "\n",
    "print(engine)\n",
    "for table_scheme in tables_scheme():\n",
    "    display(table_scheme)"
   ]
  },
  {
   "cell_type": "code",
   "execution_count": 15,
   "metadata": {},
   "outputs": [
    {
     "ename": "SyntaxError",
     "evalue": "invalid syntax (<ipython-input-15-845c5d811fc4>, line 1)",
     "output_type": "error",
     "traceback": [
      "\u001b[1;36m  File \u001b[1;32m\"<ipython-input-15-845c5d811fc4>\"\u001b[1;36m, line \u001b[1;32m1\u001b[0m\n\u001b[1;33m    ======== Tables présentes dans la base de données =========\u001b[0m\n\u001b[1;37m    ^\u001b[0m\n\u001b[1;31mSyntaxError\u001b[0m\u001b[1;31m:\u001b[0m invalid syntax\n"
     ]
    }
   ],
   "source": [
    "======== Tables présentes dans la base de données =========\n",
    "'crew', 'episodes', 'people', 'ratings', 'titles'\n",
    "\n",
    "\n",
    "\n",
    "====== Attributs de la table crew :  ======\n",
    "'title_id', 'person_id', 'category', 'job', 'characters'\n",
    "\n",
    "====== Attributs de la table episodes :  ======\n",
    "'episode_title_id', 'show_title_id', 'season_number', 'eposide_number' \n",
    "\n",
    "====== Attributs de la table people :  ======\n",
    "'person_id', 'name', 'born', 'died'\n",
    "\n",
    "====== Attributs de la table ratings :  ======\n",
    "'title_id', 'rating', 'votes'\n",
    "\n",
    "====== Attributs de la table titles :  ======\n",
    "'title_id', 'type', 'primary_title', 'original_title', 'is_adult', \n",
    "'premiered', 'ended', 'runtime_minutes', 'genres'"
   ]
  },
  {
   "cell_type": "code",
   "execution_count": 18,
   "metadata": {
    "scrolled": true
   },
   "outputs": [],
   "source": [
    "#c) OK\n",
    "conn = engine.connect()\n",
    "\n",
    "#titres les mieux notés. Indiquer nom, note, nbre de votants (avec nb votants > 5000). \n",
    "#limiter nb de résultats à 10\n",
    "stmt = text(\n",
    "    \"SELECT original_title, rating, votes \"\n",
    "    \"FROM titles \"\n",
    "    \"LEFT JOIN ratings \"\n",
    "    \"ON titles.title_id=ratings.title_id \"\n",
    "    \"WHERE ratings.votes > 5000 \"\n",
    "    \"ORDER BY votes DESC LIMIT 10 \"\n",
    ")\n",
    "result = conn.execute(stmt)\n",
    "result.fetchall()  "
   ]
  },
  {
   "cell_type": "code",
   "execution_count": null,
   "metadata": {},
   "outputs": [],
   "source": [
    "#d) OK\n",
    "#note moyenne des titres par catégorie, classer ce résultat par ordre décroissant des notes moyennes ? (On limitera les résultats aux 10 premières lignes.)\n",
    "# Insérez votre code ici\n",
    "stmt = text(\n",
    "    \"SELECT type, AVG(ratings.rating) FROM ratings \"\n",
    "    \"LEFT JOIN titles ON ratings.title_id=titles.title_id \"\n",
    "    \"GROUP BY type \"\n",
    "    \"ORDER BY votes DESC LIMIT 10 \"\n",
    ")\n",
    "result = conn.execute(stmt)\n",
    "result.fetchall() "
   ]
  },
  {
   "cell_type": "code",
   "execution_count": null,
   "metadata": {},
   "outputs": [],
   "source": [
    "#e) notes moyennes des titres associés aux différents \n",
    "#directeurs/metteurs en scène/réalisateur (on limite aux 10 premières lignes)\n",
    "stmt = text(\n",
    "    \"SELECT name, AVG(rating) as NoteMoy FROM crew \"\n",
    "    \"LEFT JOIN ratings ON crew.title_id=ratings.title_id \"\n",
    "    \"WHERE category = 'director' AS A \"\n",
    "    \"LEFT JOIN people ON A.person_id=people.person_id as B \"\n",
    "    \"GROUP BY B.person_id\" #(à vérifier)\n",
    "    \"ORDER BY NoteMoy DESC LIMIT 10\"\n",
    ")\n",
    "result = conn.execute(stmt)\n",
    "result.fetchall() "
   ]
  },
  {
   "cell_type": "code",
   "execution_count": 17,
   "metadata": {},
   "outputs": [],
   "source": [
    "#f) OK\n",
    "#combien y-a-t-il de titres par type ?\n",
    "stmt = text(\n",
    "    \"SELECT original_title, type, COUNT(title_id) FROM titles \"\n",
    "    \"GROUP BY type \" \n",
    ")\n",
    "result = conn.execute(stmt)\n",
    "result.fetchall() "
   ]
  },
  {
   "cell_type": "code",
   "execution_count": null,
   "metadata": {},
   "outputs": [],
   "source": [
    "#g) OK\n",
    "#quels sont les titres sur lesquels Quentin Tarantino a travaillé ?\n",
    "#on précisera le nom et la note du titre\n",
    "stmt = text( \"SELECT primary_title, rating FROM ((titles \"\n",
    "             \"LEFT JOIN ratings ON titles.title_id=ratings.title_id) AS A \"\n",
    "             \"LEFT JOIN crew ON A.title_id=crew.title_id) AS B \"\n",
    "             \"LEFT JOIN people ON B.person_id=people.person_id \"\n",
    "             \"WHERE people.name LIKE '%Tarantino%' \" \n",
    "            )\n",
    "result = conn.execute(stmt)\n",
    "result.fetchall()"
   ]
  },
  {
   "cell_type": "code",
   "execution_count": null,
   "metadata": {},
   "outputs": [],
   "source": [
    "#OK h) quels sont les acteurs ou actrices ayant obtenu les meilleurres note (>9)?\n",
    "# la variable category de la variable crew détermine le métier de l'individu auquel le tupel est associé.\n",
    "#limite aux 10 premiers résultats\n",
    "stmt = text( \"SELECT name, rating FROM ((SELECT * FROM crew \"\n",
    "            \"LEFT JOIN ratings ON crew.title_id=ratings.title_id \"\n",
    "            \"WHERE rating > 9 \"\n",
    "            \"AND category = 'actor') AS A \"\n",
    "            \"LEFT JOIN people ON A.person_id=people.person_id) AS B \"\n",
    "#             \"GROUP BY B.person_id \"\n",
    "            \"ORDER BY rating DESC \"\n",
    "            \"LIMIT 10 \"\n",
    "            )\n",
    "result = conn.execute(stmt)\n",
    "result.fetchall()"
   ]
  },
  {
   "cell_type": "code",
   "execution_count": null,
   "metadata": {},
   "outputs": [],
   "source": [
    "#OK i) quelle est la note moyenne des contenus pour les actrices et les acteurs ?\n",
    "#regrouper ces 2 infos ds un seul tuple.\n",
    "stmt = text( \"SELECT name, AVG(rating) as NoteMoy FROM ((SELECT * FROM crew \"\n",
    "            \"LEFT JOIN ratings ON crew.title_id=ratings.title_id \"\n",
    "            \"WHERE category='actor') AS A \"\n",
    "            \"LEFT JOIN people ON A.person_id=people.person_id) AS B \"\n",
    "            \"GROUP BY B.person_id \"\n",
    "            \"ORDER BY NoteMoy DESC \"\n",
    "            )\n",
    "result = conn.execute(stmt)\n",
    "result.fetchall()\n"
   ]
  },
  {
   "cell_type": "markdown",
   "metadata": {},
   "source": [
    "### 3. Question bonus\n",
    "(a) Quels sont les directeurs/metteurs en scène/réalisateurs (si ils existent) qui ont obtenu une note supérieur à 9 pour tous leurs titres ? (On limitera les résultats aux 10 premières lignes.)"
   ]
  },
  {
   "cell_type": "code",
   "execution_count": null,
   "metadata": {},
   "outputs": [],
   "source": [
    "stmt = text( \"SELECT name, AVG(rating) FROM ((SELECT * FROM crew \"\n",
    "            \"LEFT JOIN ratings ON crew.title_id=ratings.title_id \"\n",
    "            \"AND category = 'actor') AS A \"\n",
    "            \"LEFT JOIN people ON A.person_id=people.person_id) AS B \"\n",
    "            \"GROUP BY B.person_id \"\n",
    "            \"HAVING min(rating) > 9 \"\n",
    "            \"ORDER BY rating DESC \"\n",
    "            \"LIMIT 10 \"\n",
    "            )\n",
    "result = conn.execute(stmt)\n",
    "result.fetchall()"
   ]
  },
  {
   "cell_type": "code",
   "execution_count": null,
   "metadata": {},
   "outputs": [],
   "source": []
  },
  {
   "cell_type": "code",
   "execution_count": null,
   "metadata": {},
   "outputs": [],
   "source": []
  },
  {
   "cell_type": "code",
   "execution_count": null,
   "metadata": {},
   "outputs": [],
   "source": [
    "======== Tables présentes dans la base de données =========\n",
    "'crew', 'episodes', 'people', 'ratings', 'titles'\n",
    "\n",
    "\n",
    "====== Attributs de la table crew :  ======\n",
    "'title_id', 'person_id', 'category', 'job', 'characters'\n",
    "\n",
    "\n",
    "====== Attributs de la table episodes :  ======\n",
    "'episode_title_id', 'show_title_id', 'season_number', 'eposide_number' \n",
    "\n",
    "====== Attributs de la table people :  ======\n",
    "'person_id', 'name', 'born', 'died'\n",
    "\n",
    "====== Attributs de la table ratings :  ======\n",
    "'title_id', 'rating', 'votes'\n",
    "\n",
    "====== Attributs de la table titles :  ======\n",
    "'title_id', 'type', 'primary_title', 'original_title', 'is_adult', \n",
    "'premiered', 'ended', 'runtime_minutes', 'genres'\n"
   ]
  },
  {
   "cell_type": "code",
   "execution_count": null,
   "metadata": {},
   "outputs": [],
   "source": []
  },
  {
   "cell_type": "code",
   "execution_count": null,
   "metadata": {},
   "outputs": [],
   "source": []
  }
 ],
 "metadata": {
  "kernelspec": {
   "display_name": "Python 3",
   "language": "python",
   "name": "python3"
  },
  "language_info": {
   "codemirror_mode": {
    "name": "ipython",
    "version": 3
   },
   "file_extension": ".py",
   "mimetype": "text/x-python",
   "name": "python",
   "nbconvert_exporter": "python",
   "pygments_lexer": "ipython3",
   "version": "3.8.5"
  }
 },
 "nbformat": 4,
 "nbformat_minor": 4
}
