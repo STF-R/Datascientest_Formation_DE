{
 "cells": [
  {
   "cell_type": "code",
   "execution_count": 46,
   "metadata": {},
   "outputs": [],
   "source": [
    "class Boisson:\n",
    "    def __init__(self, volume, peremption):\n",
    "        self.volume = volume\n",
    "        self.peremption = peremption\n",
    "    def prochain_jour(self):\n",
    "        self.peremption = self.peremption - 1\n",
    "        \n",
    "boisson1 = Boisson(350, 14)"
   ]
  },
  {
   "cell_type": "code",
   "execution_count": 47,
   "metadata": {},
   "outputs": [],
   "source": [
    "class Jus(Boisson):\n",
    "    def __init__(self, volume):\n",
    "        self.volume = volume\n",
    "        self.peremption = 7\n",
    "        \n",
    "class DataCola(Boisson):\n",
    "    def __init__(self, recipient):\n",
    "        self.recipient = recipient\n",
    "        if self.recipient=='canette':\n",
    "            self.volume = 330\n",
    "            self.peremption = 60\n",
    "        elif self.recipient=='bouteille':\n",
    "            self.volume = 500\n",
    "            self.peremption = 30\n",
    "        else:\n",
    "            print(\"==> Attention : le recipient renseigné doit être 'canette' ou 'bouteille' <==\")\n",
    "            \n",
    "jus1 = Jus(1000)\n",
    "datacola1 = DataCola('canette')"
   ]
  },
  {
   "cell_type": "code",
   "execution_count": 982,
   "metadata": {},
   "outputs": [],
   "source": [
    "class Distributeur(Boisson):\n",
    "    def __init__(self, taille, contenu=[]):\n",
    "        self.taille = taille\n",
    "        self.contenu = contenu\n",
    "#         print()\n",
    "        \n",
    "    def ajouter(self, boisson):\n",
    "        if self.taille >= 1:\n",
    "            self.contenu.append(boisson)\n",
    "            self.taille = self.taille - 1\n",
    "        else:\n",
    "            print(\"==> Attention : il n'y a plus de place dans le distributeur, cette boisson n'a pas été ajoutée <==\")\n",
    "        \n",
    "    def enlever(self, i):\n",
    "        self.contenu.pop(i)\n",
    "        self.taille = self.taille + 1\n",
    "        \n",
    "    def verifier(self):\n",
    "        if len(self.contenu)>0:\n",
    "            nb_perimee = 0\n",
    "            del_index = []\n",
    "            for idx, boisson in enumerate(self.contenu):\n",
    "\n",
    "                if boisson.peremption < 0:\n",
    "                    nb_perimee+=1\n",
    "                    del_index.append(idx)\n",
    "                else:\n",
    "                    pass\n",
    "            self.taille = self.taille + len(del_index)\n",
    "            if len(del_index)>0:\n",
    "                for index in sorted(del_index, reverse=True):\n",
    "                    del self.contenu[index]\n",
    "            else:\n",
    "                pass\n",
    "            if nb_perimee==0:\n",
    "                print(\"aucune boisson n'est périmée dans le distributeur\")\n",
    "            elif nb_perimee==1:\n",
    "                print(\"%s boisson périmée a été retirée du distributeur\"%nb_perimee)\n",
    "            else:\n",
    "                print(\"%s boissons périmées ont été retirées du distributeur\"%nb_perimee)\n",
    "        else:\n",
    "            print(\"le distributeur est vide, il n'y à rien à vérifier\")\n",
    "        \n",
    "        "
   ]
  },
  {
   "cell_type": "code",
   "execution_count": 1067,
   "metadata": {},
   "outputs": [],
   "source": [
    "class Case:\n",
    "    def __init__(self):\n",
    "        self.occupe = ' '\n",
    "    \n",
    "    def jouer1(self):\n",
    "        if self.occupe == ' ':\n",
    "            self.occupe = 'X'\n",
    "        else:\n",
    "            pass\n",
    "        \n",
    "    def jouer2(self):\n",
    "        if self.occupe == ' ':\n",
    "            self.occupe = 'O'\n",
    "        else:\n",
    "            pass\n",
    "        "
   ]
  },
  {
   "cell_type": "code",
   "execution_count": 1080,
   "metadata": {},
   "outputs": [],
   "source": [
    "class Terrain:\n",
    "    def __init__(self, grille=[]):\n",
    "        self.grille = grille\n",
    "        self.tour = 1\n",
    "        self.c0 = Case()\n",
    "        self.c1 = Case()\n",
    "        self.c2 = Case()\n",
    "        self.c3 = Case()\n",
    "        self.c4 = Case()\n",
    "        self.c5 = Case()\n",
    "        self.c6 = Case()\n",
    "        self.c7 = Case()\n",
    "        self.c8 = Case()\n",
    "        case_list = [self.c0, self.c1, self.c2, self.c3, self.c4, self.c5, self.c6, self.c7, self.c8]\n",
    "#         for case in case_list:\n",
    "#             self.grille.append(case)\n",
    "\n",
    "\n",
    "    def __str__(self):\n",
    "#         print(\n",
    "            return str(self.c0.occupe)+' | '+ str(self.c1.occupe)+' | '+ str(self.c2.occupe)+'\\n'\\\n",
    "                +str(self.c3.occupe)+' | '+str(self.c4.occupe)+' | '+str(self.c5.occupe)+'\\n'\\\n",
    "                +str(self.c6.occupe)+' | '+str(self.c7.occupe)+' | '+str(self.c8.occupe)+'\\n'\n",
    "#              )\n",
    "    \n",
    "#     def jouer(self, i):\n",
    "#         if i==1:\n",
    "            \n",
    "#             self.tour = 2\n",
    "#         if i==2:\n",
    "#             self.tour = 1"
   ]
  },
  {
   "cell_type": "code",
   "execution_count": 1081,
   "metadata": {},
   "outputs": [],
   "source": [
    "t1 = Terrain()"
   ]
  },
  {
   "cell_type": "code",
   "execution_count": 1082,
   "metadata": {},
   "outputs": [
    {
     "name": "stdout",
     "output_type": "stream",
     "text": [
      "  |   |  \n",
      "  |   |  \n",
      "  |   |  \n",
      "\n"
     ]
    }
   ],
   "source": [
    "print(t1)"
   ]
  },
  {
   "cell_type": "code",
   "execution_count": null,
   "metadata": {},
   "outputs": [],
   "source": []
  },
  {
   "cell_type": "code",
   "execution_count": null,
   "metadata": {},
   "outputs": [],
   "source": []
  },
  {
   "cell_type": "code",
   "execution_count": null,
   "metadata": {},
   "outputs": [],
   "source": []
  },
  {
   "cell_type": "code",
   "execution_count": null,
   "metadata": {},
   "outputs": [],
   "source": []
  },
  {
   "cell_type": "code",
   "execution_count": null,
   "metadata": {},
   "outputs": [],
   "source": []
  },
  {
   "cell_type": "code",
   "execution_count": null,
   "metadata": {},
   "outputs": [],
   "source": []
  },
  {
   "cell_type": "code",
   "execution_count": null,
   "metadata": {},
   "outputs": [],
   "source": []
  },
  {
   "cell_type": "code",
   "execution_count": null,
   "metadata": {},
   "outputs": [],
   "source": []
  },
  {
   "cell_type": "code",
   "execution_count": null,
   "metadata": {},
   "outputs": [],
   "source": []
  },
  {
   "cell_type": "code",
   "execution_count": null,
   "metadata": {},
   "outputs": [],
   "source": []
  },
  {
   "cell_type": "code",
   "execution_count": null,
   "metadata": {},
   "outputs": [],
   "source": []
  },
  {
   "cell_type": "code",
   "execution_count": null,
   "metadata": {},
   "outputs": [],
   "source": []
  },
  {
   "cell_type": "code",
   "execution_count": null,
   "metadata": {},
   "outputs": [],
   "source": []
  },
  {
   "cell_type": "code",
   "execution_count": null,
   "metadata": {},
   "outputs": [],
   "source": []
  },
  {
   "cell_type": "code",
   "execution_count": null,
   "metadata": {},
   "outputs": [],
   "source": []
  },
  {
   "cell_type": "code",
   "execution_count": null,
   "metadata": {},
   "outputs": [],
   "source": []
  },
  {
   "cell_type": "code",
   "execution_count": null,
   "metadata": {},
   "outputs": [],
   "source": []
  }
 ],
 "metadata": {
  "kernelspec": {
   "display_name": "Python 3",
   "language": "python",
   "name": "python3"
  },
  "language_info": {
   "codemirror_mode": {
    "name": "ipython",
    "version": 3
   },
   "file_extension": ".py",
   "mimetype": "text/x-python",
   "name": "python",
   "nbconvert_exporter": "python",
   "pygments_lexer": "ipython3",
   "version": "3.8.5"
  }
 },
 "nbformat": 4,
 "nbformat_minor": 4
}
