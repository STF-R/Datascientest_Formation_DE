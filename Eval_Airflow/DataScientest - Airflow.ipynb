{
 "cells": [
  {
   "cell_type": "markdown",
   "metadata": {},
   "source": [
    "# DataScientest - Airflow"
   ]
  },
  {
   "cell_type": "markdown",
   "metadata": {},
   "source": [
    "##### La première étape consiste à instancier un object DAG et à lui fournir certains paramètres:"
   ]
  },
  {
   "cell_type": "code",
   "execution_count": null,
   "metadata": {},
   "outputs": [],
   "source": [
    "\n"
   ]
  },
  {
   "cell_type": "markdown",
   "metadata": {},
   "source": [
    "##### Le premier Operator (Extract) nous permet d'extraire des données de la covid en France et de stocker ces données dans un fichier."
   ]
  },
  {
   "cell_type": "code",
   "execution_count": null,
   "metadata": {},
   "outputs": [],
   "source": [
    "# !pip3 install GoogleNews\n",
    "# !pip install newspaper3k\n",
    "import numpy as np\n",
    "import pandas as pd\n",
    "import datetime\n",
    "import time\n",
    "from datetime import datetime, timedelta\n",
    "import json\n",
    "import os\n",
    "from pytrends.request import TrendReq\n",
    "from GoogleNews import GoogleNews\n",
    "from newspaper import Article\n",
    "\n",
    "# L'objet DAG nous sert à instancier notre séquence de tâches.\n",
    "from airflow import DAG\n",
    "# On importe les Operators dont nous avons besoin.\n",
    "from airflow.operators.email_operator import EmailOperator\n",
    "from airflow.operators.python import PythonOperator\n",
    "from tempfile import NamedTemporaryFile\n",
    "from airflow.utils.dates import days_ago\n",
    "\n",
    "# Les arguments qui suivent vont être attribués à chaque Operators.\n",
    "# Il est bien évidemment possible de changer les arguments spécifiquement pour un Operators.\n",
    "# Vous pouvez vous renseigner sur la Doc d'Airflow des différents paramètres que l'on peut définir.\n",
    "default_args = {\n",
    "    'owner': 'STF-R',\n",
    "    'email': ['data.airflow@gmail.com'],\n",
    "    'retries': 1,\n",
    "    'retry_delay': timedelta(minutes=5),\n",
    "    # 'email_on_failure': False,\n",
    "    # 'email_on_retry': False,\n",
    "    # 'queue': 'bash_queue',\n",
    "    # 'pool': 'backfill',\n",
    "    # 'priority_weight': 10,\n",
    "    # 'end_date': datetime(2016, 1, 1),\n",
    "    # 'wait_for_downstream': False,\n",
    "    # 'dag': dag,\n",
    "    # 'sla': timedelta(hours=2),\n",
    "    # 'execution_timeout': timedelta(seconds=300),\n",
    "    # 'on_failure_callback': some_function,\n",
    "    # 'on_success_callback': some_other_function,\n",
    "    # 'on_retry_callback': another_function,\n",
    "    # 'sla_miss_callback': yet_another_function,\n",
    "    # 'trigger_rule': 'all_success'\n",
    "}\n",
    "\n",
    "# Création du DAG\n",
    "dag = DAG(\n",
    "    '01_airflow_exo_STF-R',\n",
    "    default_args=default_args,\n",
    "    description='Airflow exo STF-R',\n",
    "    schedule_interval=timedelta(days=1),\n",
    "    start_date=days_ago(2),\n",
    "    tags=['exercice'],\n",
    ")\n",
    "\n",
    "####Le premier Operator (Extract) nous permet d'extraire des données de googlenews pour une \n",
    "#####requête particulière (\"query\") et de stocker ces données dans un fichier json.\n",
    "def extract(query, **kwargs):\n",
    "    #set end/start = today/yesterday\n",
    "    now = datetime.now()\n",
    "    yesterday = now - timedelta(days=1)\n",
    "    start = str(now.month)+\"/\"+str(now.day)+\"/\"+str(now.year)\n",
    "    end = str(yesterday.month)+\"/\"+str(yesterday.day)+\"/\"+str(yesterday.year)\n",
    "    #googlenews result\n",
    "    googlenews = GoogleNews(start=start,end=end)\n",
    "    googlenews.search(query)\n",
    "    result = googlenews.result()\n",
    "    #set path to save json\n",
    "    work_dir = os.getcwd()\n",
    "    path1 = 'airflow'\n",
    "    path2 = 'cellar'\n",
    "    file_name = 'news-'+str(query)+'-'+str(now.year)+\"-\"+str(now.month)+\"-\"+str(now.day)\n",
    "    #save json\n",
    "    with open(os.path.join(work_dir, path1, path2, file_name+'.json'), 'w', encoding='utf-8') as f:\n",
    "        json.dump(result, f, ensure_ascii=False, indent=4, default=str)\n",
    "\n",
    "t1 = PythonOperator(\n",
    "        task_id='extract',\n",
    "        python_callable=extract,\n",
    "        op_kwargs={'query': 'bitcoin'},\n",
    "        dag=dag,\n",
    "    )\n",
    "\n",
    "####Le deuxième Operator (Transform) nous permet de convertir notre fichier json en csv \n",
    "#####en gardant seulement les url et les résumés des articles qui nous intéressent.\n",
    "def transform(filename,**kwargs):\n",
    "    time.sleep(10)\n",
    "    \n",
    "    with open(os.path.join(work_dir,path,file_name+'.json')) as json_file:\n",
    "        data = json.load(json_file)\n",
    "    df = pd.DataFrame(data)\n",
    "    url_list = []\n",
    "    summary_list = []\n",
    "\n",
    "    for url in df['link']:\n",
    "        try:\n",
    "            article = Article(url)\n",
    "            article.download()\n",
    "            article.parse()\n",
    "            article.nlp()\n",
    "            summary = article.summary\n",
    "            url_list.append(url)\n",
    "            summary_list.append(summary)\n",
    "        except:\n",
    "            pass\n",
    "\n",
    "    df_summary = pd.DataFrame({'url':url_list, 'summary':summary_list})\n",
    "    df_summary.to_csv(os.path.join(work_dir,path,file_name+'.csv'))\n",
    "        \n",
    "t2 = PythonOperator(\n",
    "        task_id='transform',\n",
    "        python_callable=transform,\n",
    "        op_kwargs={'filename': os.path.join(work_dir, path1, path2, ,file_name+'.json')},\n",
    "        dag=dag,\n",
    "    )\n",
    "\n",
    "####Le troisième Operator (build_email) nous permet d'envoyer notre jeu de données par mail.\n",
    "def build_email(**context):\n",
    "    time.sleep(5)\n",
    "    df = read_csv(os.path.join(work_dir,path,file_name+'.csv'))\n",
    "    df['to_email'] = df['url']+'\\n'+df['summary']+'\\n\\n'\n",
    "    numpy_array = df['to_email'].to_numpy()\n",
    "    np.savetxt(\"./temp_mail.txt\", numpy_array, fmt = \"%s\")\n",
    "\n",
    "    email_op = EmailOperator(\n",
    "        task_id='send_email',\n",
    "        to=\"hello@example.com\",\n",
    "        subject=\"Bitcoin news of the day\",\n",
    "        html_content=None,\n",
    "        files='./temp_mail.txt',\n",
    "    )\n",
    "    email_op.execute(context)\n",
    "\n",
    "t3 = email_op_python = PythonOperator(\n",
    "    task_id=\"python_send_email\", python_callable=build_email, provide_context=True, dag=dag\n",
    ")\n",
    "\n",
    "t1 >> t2 >> t3"
   ]
  },
  {
   "cell_type": "code",
   "execution_count": null,
   "metadata": {},
   "outputs": [],
   "source": []
  },
  {
   "cell_type": "code",
   "execution_count": null,
   "metadata": {},
   "outputs": [],
   "source": [
    "from airflow.operators import email_operator\n",
    "    # Send email confirmation\n",
    "    email_summary = email_operator.EmailOperator(\n",
    "        task_id='email_summary',\n",
    "        to=models.Variable.get('email'),\n",
    "        subject='Sample Email',\n",
    "        html_content=\"HTML content\",\n",
    "        files=['/home/airflow/gcs/data/abc.txt'])"
   ]
  },
  {
   "cell_type": "code",
   "execution_count": null,
   "metadata": {},
   "outputs": [],
   "source": []
  },
  {
   "cell_type": "code",
   "execution_count": 40,
   "metadata": {},
   "outputs": [],
   "source": [
    "#extract\n",
    "now = datetime.now()\n",
    "yesterday = now - timedelta(days=1)\n",
    "start = str(now.month)+\"/\"+str(now.day)+\"/\"+str(now.year)\n",
    "end = str(yesterday.month)+\"/\"+str(yesterday.day)+\"/\"+str(yesterday.year)\n",
    "\n",
    "query = 'bitcoin'\n",
    "googlenews = GoogleNews(start=start,end=end)\n",
    "googlenews.search(query)\n",
    "result = googlenews.result()\n",
    "# df = pd.DataFrame(result)\n",
    "\n",
    "work_dir = os.getcwd()\n",
    "path = 'sifa_predict' #/!\\/!\\/!\\ a changer /!\\/!\\/!\\\n",
    "file_name = 'news-'+str(query)+'-'+str(now.year)+\"-\"+str(now.month)+\"-\"+str(now.day)\n",
    "\n",
    "with open(os.path.join(work_dir,path,file_name+'.json'), 'w', encoding='utf-8') as f:\n",
    "    json.dump(result, f, ensure_ascii=False, indent=4, default=str)\n"
   ]
  },
  {
   "cell_type": "code",
   "execution_count": 66,
   "metadata": {},
   "outputs": [],
   "source": [
    "with open(os.path.join(work_dir,path,file_name+'.json')) as json_file:\n",
    "    data = json.load(json_file)\n",
    "df = pd.DataFrame(data)\n",
    "url_list = []\n",
    "summary_list = []\n",
    "\n",
    "for url in df['link']:\n",
    "    try:\n",
    "        article = Article(url)\n",
    "        article.download()\n",
    "        article.parse()\n",
    "        article.nlp()\n",
    "        summary = article.summary\n",
    "        url_list.append(url)\n",
    "        summary_list.append(summary)\n",
    "    except:\n",
    "        pass\n",
    "\n",
    "df_summary = pd.DataFrame({'url':url_list, 'summary':summary_list})\n",
    "df_summary.to_csv(os.path.join(work_dir,path,file_name+'.csv'))"
   ]
  },
  {
   "cell_type": "code",
   "execution_count": null,
   "metadata": {},
   "outputs": [],
   "source": []
  },
  {
   "cell_type": "code",
   "execution_count": null,
   "metadata": {},
   "outputs": [],
   "source": []
  },
  {
   "cell_type": "code",
   "execution_count": null,
   "metadata": {},
   "outputs": [],
   "source": []
  },
  {
   "cell_type": "code",
   "execution_count": null,
   "metadata": {},
   "outputs": [],
   "source": []
  },
  {
   "cell_type": "code",
   "execution_count": null,
   "metadata": {
    "scrolled": true
   },
   "outputs": [],
   "source": []
  },
  {
   "cell_type": "code",
   "execution_count": null,
   "metadata": {},
   "outputs": [],
   "source": []
  },
  {
   "cell_type": "code",
   "execution_count": null,
   "metadata": {
    "scrolled": true
   },
   "outputs": [],
   "source": []
  },
  {
   "cell_type": "code",
   "execution_count": 109,
   "metadata": {},
   "outputs": [],
   "source": []
  },
  {
   "cell_type": "code",
   "execution_count": null,
   "metadata": {},
   "outputs": [],
   "source": []
  },
  {
   "cell_type": "code",
   "execution_count": 122,
   "metadata": {},
   "outputs": [
    {
     "data": {
      "text/html": [
       "<a href=\"http://example.com\">link</a>"
      ],
      "text/plain": [
       "<IPython.core.display.HTML object>"
      ]
     },
     "execution_count": 122,
     "metadata": {},
     "output_type": "execute_result"
    }
   ],
   "source": [
    "from IPython.core.display import HTML\n",
    "HTML('<a href=\"http://example.com\">link</a>')"
   ]
  },
  {
   "cell_type": "code",
   "execution_count": 121,
   "metadata": {},
   "outputs": [
    {
     "data": {
      "text/plain": [
       "'https://www.coindesk.com/bitcoin-returns-near-40k-resistance-support-at-36k\\nDisclosureThe leader in news and information on cryptocurrency, digital assets and the future of money, CoinDesk is a media outlet that strives for the highest journalistic standards and abides by a strict set of editorial policies .\\nCoinDesk is an independent operating subsidiary of Digital Currency Group , which invests in cryptocurrencies and blockchain startups\\n\\n\\nhttps://cointelegraph.com/news/record-57k-btc-leave-exchanges-in-one-day-dropping-bitcoin-reserves-to-pre-crash-levels\\nBitcoin (BTC) demanded a $40,000 resistance flip on Thursday as on-chain data revealed large withdrawals from exchanges.\\nAmid concerns over the strength of this week’s rally, data on Thursday nonetheless pointed to genuine demand for BTC at higher prices.\\nBitcoin exchange net flows chart.\\nSource: BybtIn search of solid supportDespite this demand, however, market participants remained convinced of the need for a higher low construction on BTC/USD before any higher levels could fall.\\nBeen bullish from 29.6k into resistance but today to me signals need to go down for higher low.”Exactly how low that higher low will be could be anywhere between $36,000 and $32,500, Cointelegraph reported.\\n\\n\\nhttps://bitcoinmagazine.com/markets/bitcoin-mutual-fund-manager-profunds\\nThe first publicly available U.S. mutual fund that generally tracks the price of Bitcoin has been launched by a $60 billion fund manager.\\nIn a press release this morning ProFunds announced the launch of its Bitcoin Strategy ProFund (BTCFX).\\nThis will be the first publicly available U.S. mutual fund that generally tracks the price of Bitcoin.\\nThe new mutual fund offers investors exposure to the Bitcoin price without the need to separately manage a hardware wallet or exchange custodial solution.\\nAlthough, the minimum investment limit in the fund is $1,000, which is over 1000x the minimum cost of purchasing bitcoin or sats outright, and more than twice the current cost of LedgerX’s Mini Futures contracts (.01 btc).\\n\\n\\nhttps://www.thenewsnigeria.com.ng/2021/07/28/bitcoin-rises-above-40000/\\nBitcoin broke above $40,000 on Wednesday and headed for another attempt at breaking from its months-long range as short-sellers bailed out and traders drew confidence from recent positive comments about the cryptocurrency by high-profile investors.\\nBitcoin was last up 1.7 per cent at $40,149 while rival cryptocurrency ether rose 1 per cent to $2,328.\\nIt is a decentralised digital currency, without a central bank or single administrator, that can be sent from user to user on the peer-to-peer bitcoin network without the need for intermediaries.\\nResearch produced by the University of Cambridge estimated that in 2017, there were 2.9 to 5.8 million unique users using a cryptocurrency wallet, most of them using bitcoin.\\nBitcoin has also been used as an investment, although several regulatory agencies have issued investor alerts about bitcoin.\\n\\n\\nhttps://news.bitcoin.com/elon-musk-tesla-owns-42k-bitcoins/\\nElon Musk Hints Tesla Owns About 42K BitcoinsTesla CEO Elon Musk has hinted how many bitcoins Tesla owns after revealing that the fair market value of its bitcoin holdings was $1.47 billion as of June 30.\\nTesla Holding About 42K BitcoinsTesla’s technoking, Elon Musk, has commented on how many bitcoins his electric car company owns in response to a rough calculation provided on Twitter by Tesla shareholder Dave Lee.\\nMusk subsequently replied: “We don’t have that many bitcoin, but it’s close.”Tesla bought bitcoin worth $1.5 billion in the first quarter.\\nAccording to a list of bitcoin treasuries, the only public company that owns more bitcoin than Tesla is Microstrategy.\\nHow many bitcoins do you think Elon Musk, Tesla, and Spacex own?\\n\\n\\nhttps://www.cnbc.com/2021/07/28/sen-elizabeth-warren-doubts-bitcoin-as-inflation-hedge-wants-tighter-regulation.html\\nSen. Elizabeth Warren told CNBC on Wednesday she\\'s skeptical that bitcoin will prove to be a reliable hedge against inflation over the long run, a key reason some investors choose to own it.\\nThe second assumption, according to Warren, is \"crypto coins are not going to have their own inflationary pressures.\"\\nMany critics, Warren among them, point to bitcoin\\'s penchant for wild price swings and believe it undercuts the premise of bitcoin as a store of value.\\nAgainst that backdrop, however, bitcoin tumbled from its all-time high near $65,000 in mid-April to below $30,000 this summer.\\nThat\\'s mostly an inflation hedge.\\n\\n\\nhttps://bitcoinmagazine.com/business/bitcoin-buying-paypal-uk-q2-earnings-call\\nPayPal\\'s launch of Bitcoin buy and sell services in the U.K. could soon allow thousands to gain exposure to the cryptocurrency\\'s price movements.\\nPayPal president and CEO Dan Schulman has issued new details about the payment giant’s Bitcoin and cryptocurrency services expansion.\\nAlthough the call contained no mention of Bitcoin directly, Schulman said the company is adding functionality to its Venmo crypto services, which if launched in the U.K. could allow thousands to gain Bitcoin price exposure.\\nToday, PayPal merely allows customers to buy and sell Bitcoin internally via a form of an internal IOU.\\nAnd so we\\'re really looking at how do we integrate that into both the trading and the buy with crypto on our platform.”\\n\\n\\nhttps://bitcoinmagazine.com/business/seetee-invests-breez-lightning-bitcoin\\nNorwegian investment company focused on Bitcoin, Seetee, has become the newest investor in the Bitcoin and Lightning company Breez.\\nBitcoin payments company Breez has announced that Seetee, the bitcoin-focused subsidiary of Norwegian investment group Aker, has become their newest investor.\\nBy providing a seamless and fast Bitcoin experience on top of Lightning, Breez helps users to take advantage of the unique value proposition of Bitcoin – final, unstoppable, uncensorable money.\\nThe Lightning Network is a decentralized scaling solution for Bitcoin that abstracts small transactions between users away from the Bitcoin blockchain.\\n“Its non-custodial and trust-minimized architecture allows consumers, merchants, content creators, and other peers to transact on the Lightning network quickly and easily.\\n\\n\\nhttps://bitcoinmagazine.com/business/bitcoin-real-estate-loan-glen-oaks\\nGlen Oaks began accepting Bitcoin in 2018 and sees the loan as proof the cryptocurrency’s value proposition is becoming clearer to debtors and creditors.\\nGlen Oaks Escrow, one of the largest independent escrow companies in California, has facilitated its first refinancing through a Bitcoin-backed loan.\\nIn a press release issued today, the company said this marks the first time a refinancing has been completed with a buyer using Bitcoin as collateral.\\nGlen Oaks began accepting Bitcoin payments in 2018, and sees the news as proof the cryptocurrency’s value proposition is becoming clearer to debtors and creditors.\\nPrior to today\\'s transaction, Glen Oaks Escrow had only facilitated transactions in which the buyer used Bitcoin as the form of payment.'"
      ]
     },
     "execution_count": 121,
     "metadata": {},
     "output_type": "execute_result"
    }
   ],
   "source": [
    "with open('./test_file.txt', \"r\") as filename:\n",
    "    text = filename.read()\n",
    "text\n",
    "text.rstrip('\\n')"
   ]
  },
  {
   "cell_type": "code",
   "execution_count": null,
   "metadata": {},
   "outputs": [],
   "source": [
    "environment_type = os.environ.get('ENVIRONMENT_TYPE')\n",
    "if environment_type:\n",
    "    return {\n",
    "        'environment': environment_type\n",
    "    }\n",
    "else:\n",
    "    return {\n",
    "        'environment': 'unknown'\n",
    "    }"
   ]
  }
 ],
 "metadata": {
  "kernelspec": {
   "display_name": "Python 3",
   "language": "python",
   "name": "python3"
  },
  "language_info": {
   "codemirror_mode": {
    "name": "ipython",
    "version": 3
   },
   "file_extension": ".py",
   "mimetype": "text/x-python",
   "name": "python",
   "nbconvert_exporter": "python",
   "pygments_lexer": "ipython3",
   "version": "3.8.5"
  }
 },
 "nbformat": 4,
 "nbformat_minor": 4
}
