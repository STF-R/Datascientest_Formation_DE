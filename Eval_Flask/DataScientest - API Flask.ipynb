{
 "cells": [
  {
   "cell_type": "code",
   "execution_count": null,
   "metadata": {},
   "outputs": [],
   "source": []
  },
  {
   "cell_type": "code",
   "execution_count": null,
   "metadata": {},
   "outputs": [],
   "source": []
  },
  {
   "cell_type": "code",
   "execution_count": null,
   "metadata": {},
   "outputs": [],
   "source": []
  },
  {
   "cell_type": "code",
   "execution_count": 3,
   "metadata": {},
   "outputs": [],
   "source": [
    "import pandas as pd"
   ]
  },
  {
   "cell_type": "code",
   "execution_count": 14,
   "metadata": {},
   "outputs": [
    {
     "data": {
      "text/html": [
       "<div>\n",
       "<style scoped>\n",
       "    .dataframe tbody tr th:only-of-type {\n",
       "        vertical-align: middle;\n",
       "    }\n",
       "\n",
       "    .dataframe tbody tr th {\n",
       "        vertical-align: top;\n",
       "    }\n",
       "\n",
       "    .dataframe thead th {\n",
       "        text-align: right;\n",
       "    }\n",
       "</style>\n",
       "<table border=\"1\" class=\"dataframe\">\n",
       "  <thead>\n",
       "    <tr style=\"text-align: right;\">\n",
       "      <th></th>\n",
       "      <th>username</th>\n",
       "      <th>password</th>\n",
       "      <th>v1</th>\n",
       "      <th>v2</th>\n",
       "    </tr>\n",
       "  </thead>\n",
       "  <tbody>\n",
       "    <tr>\n",
       "      <th>0</th>\n",
       "      <td>Quinlan</td>\n",
       "      <td>5210</td>\n",
       "      <td>0</td>\n",
       "      <td>1</td>\n",
       "    </tr>\n",
       "    <tr>\n",
       "      <th>1</th>\n",
       "      <td>Davis</td>\n",
       "      <td>5783</td>\n",
       "      <td>0</td>\n",
       "      <td>0</td>\n",
       "    </tr>\n",
       "    <tr>\n",
       "      <th>2</th>\n",
       "      <td>Montana</td>\n",
       "      <td>3134</td>\n",
       "      <td>0</td>\n",
       "      <td>0</td>\n",
       "    </tr>\n",
       "    <tr>\n",
       "      <th>3</th>\n",
       "      <td>Quintessa</td>\n",
       "      <td>8790</td>\n",
       "      <td>0</td>\n",
       "      <td>1</td>\n",
       "    </tr>\n",
       "    <tr>\n",
       "      <th>4</th>\n",
       "      <td>Camden</td>\n",
       "      <td>4837</td>\n",
       "      <td>0</td>\n",
       "      <td>0</td>\n",
       "    </tr>\n",
       "    <tr>\n",
       "      <th>5</th>\n",
       "      <td>Megan</td>\n",
       "      <td>6837</td>\n",
       "      <td>1</td>\n",
       "      <td>1</td>\n",
       "    </tr>\n",
       "    <tr>\n",
       "      <th>6</th>\n",
       "      <td>Liberty</td>\n",
       "      <td>5564</td>\n",
       "      <td>1</td>\n",
       "      <td>1</td>\n",
       "    </tr>\n",
       "    <tr>\n",
       "      <th>7</th>\n",
       "      <td>Zelda</td>\n",
       "      <td>8610</td>\n",
       "      <td>0</td>\n",
       "      <td>1</td>\n",
       "    </tr>\n",
       "    <tr>\n",
       "      <th>8</th>\n",
       "      <td>Mara</td>\n",
       "      <td>9820</td>\n",
       "      <td>1</td>\n",
       "      <td>0</td>\n",
       "    </tr>\n",
       "    <tr>\n",
       "      <th>9</th>\n",
       "      <td>Steven</td>\n",
       "      <td>5998</td>\n",
       "      <td>1</td>\n",
       "      <td>1</td>\n",
       "    </tr>\n",
       "    <tr>\n",
       "      <th>10</th>\n",
       "      <td>Rhiannon</td>\n",
       "      <td>3545</td>\n",
       "      <td>1</td>\n",
       "      <td>0</td>\n",
       "    </tr>\n",
       "    <tr>\n",
       "      <th>11</th>\n",
       "      <td>Julian</td>\n",
       "      <td>7520</td>\n",
       "      <td>0</td>\n",
       "      <td>1</td>\n",
       "    </tr>\n",
       "    <tr>\n",
       "      <th>12</th>\n",
       "      <td>Anika</td>\n",
       "      <td>8944</td>\n",
       "      <td>0</td>\n",
       "      <td>1</td>\n",
       "    </tr>\n",
       "    <tr>\n",
       "      <th>13</th>\n",
       "      <td>Justine</td>\n",
       "      <td>9156</td>\n",
       "      <td>1</td>\n",
       "      <td>0</td>\n",
       "    </tr>\n",
       "    <tr>\n",
       "      <th>14</th>\n",
       "      <td>Lionel</td>\n",
       "      <td>4527</td>\n",
       "      <td>0</td>\n",
       "      <td>1</td>\n",
       "    </tr>\n",
       "  </tbody>\n",
       "</table>\n",
       "</div>"
      ],
      "text/plain": [
       "     username  password  v1  v2\n",
       "0     Quinlan      5210   0   1\n",
       "1       Davis      5783   0   0\n",
       "2     Montana      3134   0   0\n",
       "3   Quintessa      8790   0   1\n",
       "4      Camden      4837   0   0\n",
       "5       Megan      6837   1   1\n",
       "6     Liberty      5564   1   1\n",
       "7       Zelda      8610   0   1\n",
       "8        Mara      9820   1   0\n",
       "9      Steven      5998   1   1\n",
       "10   Rhiannon      3545   1   0\n",
       "11     Julian      7520   0   1\n",
       "12      Anika      8944   0   1\n",
       "13    Justine      9156   1   0\n",
       "14     Lionel      4527   0   1"
      ]
     },
     "execution_count": 14,
     "metadata": {},
     "output_type": "execute_result"
    }
   ],
   "source": [
    "df_cred = pd.read_csv('./credentials.csv')\n",
    "df_cred.head(15)"
   ]
  },
  {
   "cell_type": "code",
   "execution_count": 25,
   "metadata": {},
   "outputs": [
    {
     "data": {
      "text/plain": [
       "9156"
      ]
     },
     "execution_count": 25,
     "metadata": {},
     "output_type": "execute_result"
    }
   ],
   "source": [
    "nb=13\n",
    "username=df_cred['username'].iloc[nb]\n",
    "password=df_cred['password'].iloc[nb]\n",
    "\n",
    "username\n",
    "password"
   ]
  },
  {
   "cell_type": "code",
   "execution_count": 30,
   "metadata": {},
   "outputs": [
    {
     "data": {
      "text/plain": [
       "False"
      ]
     },
     "execution_count": 30,
     "metadata": {},
     "output_type": "execute_result"
    }
   ],
   "source": [
    "bool(0)"
   ]
  },
  {
   "cell_type": "code",
   "execution_count": 26,
   "metadata": {},
   "outputs": [],
   "source": [
    "{\n",
    "    \"username\": \"Liberty\"\n",
    "    \"v1\": false\n",
    "    \"v2\": true\n",
    "}\n",
    "Ou\n",
    "{\n",
    "    \"username\": \"Liberty\"\n",
    "    \"permissions\": [\"v1\", \"v2\"]\n",
    "}"
   ]
  },
  {
   "cell_type": "code",
   "execution_count": 36,
   "metadata": {},
   "outputs": [
    {
     "ename": "RuntimeError",
     "evalue": "Working outside of application context.\n\nThis typically means that you attempted to use functionality that needed\nto interface with the current application object in some way. To solve\nthis, set up an application context with app.app_context().  See the\ndocumentation for more information.",
     "output_type": "error",
     "traceback": [
      "\u001b[1;31m---------------------------------------------------------------------------\u001b[0m",
      "\u001b[1;31mRuntimeError\u001b[0m                              Traceback (most recent call last)",
      "\u001b[1;32m<ipython-input-36-6995fcdb52bc>\u001b[0m in \u001b[0;36m<module>\u001b[1;34m\u001b[0m\n\u001b[0;32m      5\u001b[0m     \u001b[1;32mreturn\u001b[0m \u001b[0mmake_response\u001b[0m\u001b[1;33m(\u001b[0m\u001b[0mjsonify\u001b[0m\u001b[1;33m(\u001b[0m\u001b[1;33m{\u001b[0m\u001b[1;34m'username'\u001b[0m\u001b[1;33m:\u001b[0m \u001b[0musername\u001b[0m\u001b[1;33m,\u001b[0m \u001b[1;34m'v1'\u001b[0m\u001b[1;33m:\u001b[0m\u001b[0mbool\u001b[0m\u001b[1;33m(\u001b[0m\u001b[0mv1\u001b[0m\u001b[1;33m)\u001b[0m\u001b[1;33m,\u001b[0m \u001b[1;34m'v2'\u001b[0m\u001b[1;33m:\u001b[0m\u001b[0mbool\u001b[0m\u001b[1;33m(\u001b[0m\u001b[0mv2\u001b[0m\u001b[1;33m)\u001b[0m\u001b[1;33m}\u001b[0m\u001b[1;33m)\u001b[0m\u001b[1;33m,\u001b[0m \u001b[1;36m200\u001b[0m\u001b[1;33m)\u001b[0m\u001b[1;33m\u001b[0m\u001b[1;33m\u001b[0m\u001b[0m\n\u001b[0;32m      6\u001b[0m \u001b[1;33m\u001b[0m\u001b[0m\n\u001b[1;32m----> 7\u001b[1;33m \u001b[0mperm_resp\u001b[0m\u001b[1;33m(\u001b[0m\u001b[0musername\u001b[0m\u001b[1;33m,\u001b[0m \u001b[0mv1\u001b[0m\u001b[1;33m,\u001b[0m \u001b[0mv2\u001b[0m\u001b[1;33m)\u001b[0m\u001b[1;33m\u001b[0m\u001b[1;33m\u001b[0m\u001b[0m\n\u001b[0m",
      "\u001b[1;32m<ipython-input-36-6995fcdb52bc>\u001b[0m in \u001b[0;36mperm_resp\u001b[1;34m(username, v1, v2)\u001b[0m\n\u001b[0;32m      3\u001b[0m \u001b[1;33m\u001b[0m\u001b[0m\n\u001b[0;32m      4\u001b[0m \u001b[1;32mdef\u001b[0m \u001b[0mperm_resp\u001b[0m\u001b[1;33m(\u001b[0m\u001b[0musername\u001b[0m\u001b[1;33m,\u001b[0m \u001b[0mv1\u001b[0m\u001b[1;33m,\u001b[0m \u001b[0mv2\u001b[0m\u001b[1;33m)\u001b[0m\u001b[1;33m:\u001b[0m\u001b[1;33m\u001b[0m\u001b[1;33m\u001b[0m\u001b[0m\n\u001b[1;32m----> 5\u001b[1;33m     \u001b[1;32mreturn\u001b[0m \u001b[0mmake_response\u001b[0m\u001b[1;33m(\u001b[0m\u001b[0mjsonify\u001b[0m\u001b[1;33m(\u001b[0m\u001b[1;33m{\u001b[0m\u001b[1;34m'username'\u001b[0m\u001b[1;33m:\u001b[0m \u001b[0musername\u001b[0m\u001b[1;33m,\u001b[0m \u001b[1;34m'v1'\u001b[0m\u001b[1;33m:\u001b[0m\u001b[0mbool\u001b[0m\u001b[1;33m(\u001b[0m\u001b[0mv1\u001b[0m\u001b[1;33m)\u001b[0m\u001b[1;33m,\u001b[0m \u001b[1;34m'v2'\u001b[0m\u001b[1;33m:\u001b[0m\u001b[0mbool\u001b[0m\u001b[1;33m(\u001b[0m\u001b[0mv2\u001b[0m\u001b[1;33m)\u001b[0m\u001b[1;33m}\u001b[0m\u001b[1;33m)\u001b[0m\u001b[1;33m,\u001b[0m \u001b[1;36m200\u001b[0m\u001b[1;33m)\u001b[0m\u001b[1;33m\u001b[0m\u001b[1;33m\u001b[0m\u001b[0m\n\u001b[0m\u001b[0;32m      6\u001b[0m \u001b[1;33m\u001b[0m\u001b[0m\n\u001b[0;32m      7\u001b[0m \u001b[0mperm_resp\u001b[0m\u001b[1;33m(\u001b[0m\u001b[0musername\u001b[0m\u001b[1;33m,\u001b[0m \u001b[0mv1\u001b[0m\u001b[1;33m,\u001b[0m \u001b[0mv2\u001b[0m\u001b[1;33m)\u001b[0m\u001b[1;33m\u001b[0m\u001b[1;33m\u001b[0m\u001b[0m\n",
      "\u001b[1;32m~\\Anaconda3\\lib\\site-packages\\flask\\json\\__init__.py\u001b[0m in \u001b[0;36mjsonify\u001b[1;34m(*args, **kwargs)\u001b[0m\n\u001b[0;32m    356\u001b[0m     \u001b[0mseparators\u001b[0m \u001b[1;33m=\u001b[0m \u001b[1;33m(\u001b[0m\u001b[1;34m\",\"\u001b[0m\u001b[1;33m,\u001b[0m \u001b[1;34m\":\"\u001b[0m\u001b[1;33m)\u001b[0m\u001b[1;33m\u001b[0m\u001b[1;33m\u001b[0m\u001b[0m\n\u001b[0;32m    357\u001b[0m \u001b[1;33m\u001b[0m\u001b[0m\n\u001b[1;32m--> 358\u001b[1;33m     \u001b[1;32mif\u001b[0m \u001b[0mcurrent_app\u001b[0m\u001b[1;33m.\u001b[0m\u001b[0mconfig\u001b[0m\u001b[1;33m[\u001b[0m\u001b[1;34m\"JSONIFY_PRETTYPRINT_REGULAR\"\u001b[0m\u001b[1;33m]\u001b[0m \u001b[1;32mor\u001b[0m \u001b[0mcurrent_app\u001b[0m\u001b[1;33m.\u001b[0m\u001b[0mdebug\u001b[0m\u001b[1;33m:\u001b[0m\u001b[1;33m\u001b[0m\u001b[1;33m\u001b[0m\u001b[0m\n\u001b[0m\u001b[0;32m    359\u001b[0m         \u001b[0mindent\u001b[0m \u001b[1;33m=\u001b[0m \u001b[1;36m2\u001b[0m\u001b[1;33m\u001b[0m\u001b[1;33m\u001b[0m\u001b[0m\n\u001b[0;32m    360\u001b[0m         \u001b[0mseparators\u001b[0m \u001b[1;33m=\u001b[0m \u001b[1;33m(\u001b[0m\u001b[1;34m\", \"\u001b[0m\u001b[1;33m,\u001b[0m \u001b[1;34m\": \"\u001b[0m\u001b[1;33m)\u001b[0m\u001b[1;33m\u001b[0m\u001b[1;33m\u001b[0m\u001b[0m\n",
      "\u001b[1;32m~\\Anaconda3\\lib\\site-packages\\werkzeug\\local.py\u001b[0m in \u001b[0;36m__getattr__\u001b[1;34m(self, name)\u001b[0m\n\u001b[0;32m    345\u001b[0m         \u001b[1;32mif\u001b[0m \u001b[0mname\u001b[0m \u001b[1;33m==\u001b[0m \u001b[1;34m\"__members__\"\u001b[0m\u001b[1;33m:\u001b[0m\u001b[1;33m\u001b[0m\u001b[1;33m\u001b[0m\u001b[0m\n\u001b[0;32m    346\u001b[0m             \u001b[1;32mreturn\u001b[0m \u001b[0mdir\u001b[0m\u001b[1;33m(\u001b[0m\u001b[0mself\u001b[0m\u001b[1;33m.\u001b[0m\u001b[0m_get_current_object\u001b[0m\u001b[1;33m(\u001b[0m\u001b[1;33m)\u001b[0m\u001b[1;33m)\u001b[0m\u001b[1;33m\u001b[0m\u001b[1;33m\u001b[0m\u001b[0m\n\u001b[1;32m--> 347\u001b[1;33m         \u001b[1;32mreturn\u001b[0m \u001b[0mgetattr\u001b[0m\u001b[1;33m(\u001b[0m\u001b[0mself\u001b[0m\u001b[1;33m.\u001b[0m\u001b[0m_get_current_object\u001b[0m\u001b[1;33m(\u001b[0m\u001b[1;33m)\u001b[0m\u001b[1;33m,\u001b[0m \u001b[0mname\u001b[0m\u001b[1;33m)\u001b[0m\u001b[1;33m\u001b[0m\u001b[1;33m\u001b[0m\u001b[0m\n\u001b[0m\u001b[0;32m    348\u001b[0m \u001b[1;33m\u001b[0m\u001b[0m\n\u001b[0;32m    349\u001b[0m     \u001b[1;32mdef\u001b[0m \u001b[0m__setitem__\u001b[0m\u001b[1;33m(\u001b[0m\u001b[0mself\u001b[0m\u001b[1;33m,\u001b[0m \u001b[0mkey\u001b[0m\u001b[1;33m,\u001b[0m \u001b[0mvalue\u001b[0m\u001b[1;33m)\u001b[0m\u001b[1;33m:\u001b[0m\u001b[1;33m\u001b[0m\u001b[1;33m\u001b[0m\u001b[0m\n",
      "\u001b[1;32m~\\Anaconda3\\lib\\site-packages\\werkzeug\\local.py\u001b[0m in \u001b[0;36m_get_current_object\u001b[1;34m(self)\u001b[0m\n\u001b[0;32m    304\u001b[0m         \"\"\"\n\u001b[0;32m    305\u001b[0m         \u001b[1;32mif\u001b[0m \u001b[1;32mnot\u001b[0m \u001b[0mhasattr\u001b[0m\u001b[1;33m(\u001b[0m\u001b[0mself\u001b[0m\u001b[1;33m.\u001b[0m\u001b[0m__local\u001b[0m\u001b[1;33m,\u001b[0m \u001b[1;34m\"__release_local__\"\u001b[0m\u001b[1;33m)\u001b[0m\u001b[1;33m:\u001b[0m\u001b[1;33m\u001b[0m\u001b[1;33m\u001b[0m\u001b[0m\n\u001b[1;32m--> 306\u001b[1;33m             \u001b[1;32mreturn\u001b[0m \u001b[0mself\u001b[0m\u001b[1;33m.\u001b[0m\u001b[0m__local\u001b[0m\u001b[1;33m(\u001b[0m\u001b[1;33m)\u001b[0m\u001b[1;33m\u001b[0m\u001b[1;33m\u001b[0m\u001b[0m\n\u001b[0m\u001b[0;32m    307\u001b[0m         \u001b[1;32mtry\u001b[0m\u001b[1;33m:\u001b[0m\u001b[1;33m\u001b[0m\u001b[1;33m\u001b[0m\u001b[0m\n\u001b[0;32m    308\u001b[0m             \u001b[1;32mreturn\u001b[0m \u001b[0mgetattr\u001b[0m\u001b[1;33m(\u001b[0m\u001b[0mself\u001b[0m\u001b[1;33m.\u001b[0m\u001b[0m__local\u001b[0m\u001b[1;33m,\u001b[0m \u001b[0mself\u001b[0m\u001b[1;33m.\u001b[0m\u001b[0m__name__\u001b[0m\u001b[1;33m)\u001b[0m\u001b[1;33m\u001b[0m\u001b[1;33m\u001b[0m\u001b[0m\n",
      "\u001b[1;32m~\\Anaconda3\\lib\\site-packages\\flask\\globals.py\u001b[0m in \u001b[0;36m_find_app\u001b[1;34m()\u001b[0m\n\u001b[0;32m     50\u001b[0m     \u001b[0mtop\u001b[0m \u001b[1;33m=\u001b[0m \u001b[0m_app_ctx_stack\u001b[0m\u001b[1;33m.\u001b[0m\u001b[0mtop\u001b[0m\u001b[1;33m\u001b[0m\u001b[1;33m\u001b[0m\u001b[0m\n\u001b[0;32m     51\u001b[0m     \u001b[1;32mif\u001b[0m \u001b[0mtop\u001b[0m \u001b[1;32mis\u001b[0m \u001b[1;32mNone\u001b[0m\u001b[1;33m:\u001b[0m\u001b[1;33m\u001b[0m\u001b[1;33m\u001b[0m\u001b[0m\n\u001b[1;32m---> 52\u001b[1;33m         \u001b[1;32mraise\u001b[0m \u001b[0mRuntimeError\u001b[0m\u001b[1;33m(\u001b[0m\u001b[0m_app_ctx_err_msg\u001b[0m\u001b[1;33m)\u001b[0m\u001b[1;33m\u001b[0m\u001b[1;33m\u001b[0m\u001b[0m\n\u001b[0m\u001b[0;32m     53\u001b[0m     \u001b[1;32mreturn\u001b[0m \u001b[0mtop\u001b[0m\u001b[1;33m.\u001b[0m\u001b[0mapp\u001b[0m\u001b[1;33m\u001b[0m\u001b[1;33m\u001b[0m\u001b[0m\n\u001b[0;32m     54\u001b[0m \u001b[1;33m\u001b[0m\u001b[0m\n",
      "\u001b[1;31mRuntimeError\u001b[0m: Working outside of application context.\n\nThis typically means that you attempted to use functionality that needed\nto interface with the current application object in some way. To solve\nthis, set up an application context with app.app_context().  See the\ndocumentation for more information."
     ]
    }
   ],
   "source": [
    "from flask import make_response\n",
    "from flask import jsonify\n",
    "\n",
    "def perm_resp(username, v1, v2):\n",
    "    return make_response(jsonify({'username': username, 'v1':bool(v1), 'v2':bool(v2)}), 200)\n",
    "\n",
    "perm_resp(username, v1, v2)"
   ]
  },
  {
   "cell_type": "code",
   "execution_count": null,
   "metadata": {},
   "outputs": [],
   "source": [
    "import random\n",
    "import pandas as pd\n",
    "from flask import Flask\n",
    "import json\n",
    "from flask import jsonify\n",
    "from flask import make_response\n",
    "from flask import abort, request\n",
    "import requests\n",
    "from vaderSentiment.vaderSentiment import SentimentIntensityAnalyzer\n",
    "\n",
    "##fonctions utiles\n",
    "def perm_value(username, password):\n",
    "    df_cred = pd.read_csv(\"./credentials.csv\") #dataframe des credentials\n",
    "    if any(df_cred['username']==str(username)) and any(df_cred['password']==int(password)):#le username et le password sont bien référencés ds les credentials\n",
    "        indx_usr = df_cred.loc[(df_cred['username']==str(username))].index[0] #index de la ligne à laquelle se trouve le username recherché\n",
    "        indx_pwd = df_cred.loc[(df_cred['password']==int(password))].index[0] #index de la ligne à laquelle se trouve le password recherché\n",
    "        if indx_usr==indx_pwd:#le username et le password matchent\n",
    "            v1_col, v2_col = 2,3 #index des colonnes v1 et v2 dans le dataframe\n",
    "            indx = df_cred.loc[(df_cred['username']==str(username)) & (df_cred['password']==int(password))].index[0] #index de la ligne à laquelle se trouve la paire (username, password) recherchée\n",
    "            v1 = df_cred.iloc[indx, v1_col] #valeur de v1 pour cette paire (username, password) (= 0 ou 1)\n",
    "            v2 = df_cred.iloc[indx, v2_col] #valeur de v2 pour cette paire (username, password) (= 0 ou 1\n",
    "            return v1, v2\n",
    "        else :#le username et le password ne matchent pas\n",
    "            return make_response(jsonify({'error': 'check username and/or password'}), 403)\n",
    "    else :#le username et/ou le password ne sont pas référencés ds les credentials\n",
    "        return make_response(jsonify({'error': 'check username and/or password'}), 403)\n",
    "\n",
    "def perm_resp(username, v1, v2):\n",
    "    return make_response(jsonify({'username': username, 'v1':bool(v1), 'v2':bool(v2)}), 200)\n",
    "\n",
    "##API\n",
    "host=\"0.0.0.0\"\n",
    "api = Flask(import_name='my_api')\n",
    "\n",
    "@api.route('/status', methods=['GET']) #renvoie 1 si l’API fonctionne\n",
    "def api_in_use():\n",
    "    return  make_response(jsonify({'it works!': '1'}), 200)\n",
    "\n",
    "@api.route('/permissions/<username>/<password>', methods=['GET']) #renvoie la liste des permissions d’un utilisateur authentifié par son username et son password\n",
    "def perm_type(username, password):\n",
    "    v1, v2 = perm_value(username, password)\n",
    "    return perm_resp(username, v1, v2)\n",
    "\n",
    "@api.route('/v1/sentiment/<username>/<password>', methods=['GET']) #renvoie le score de sentiment v1 de la phrase proposée\n",
    "def v1_resp(username, password):\n",
    "    f = open('sentence.txt', 'r')\n",
    "    sentence = f.read()\n",
    "    f.close()\n",
    "    v1, v2 = perm_value(username, password)\n",
    "    score_v1 = random.randrange(-100, 100, 1)/100\n",
    "            if v1==1 and v2==1:\n",
    "                return make_response(jsonify({sentence: 'score v1 = %s'%(score_v1)}), 200)\n",
    "            elif v1==1 and v2==0:\n",
    "                return make_response(jsonify({sentence: 'score v1 = %s'%(score_v1)}), 200)\n",
    "            elif v1==0 and v2==1:\n",
    "                return make_response(jsonify({'error': \"pas d'acces v1 (acces v2 autorise\"}), 403)\n",
    "            elif v1==0 and v2==0:\n",
    "                return make_response(jsonify({'error': 'aucun access autorise (ni v1 ni v2)'}), 403)\n",
    "            else:\n",
    "                return make_response(jsonify({'error': 'check v1 & v2 values'}), 403)\n",
    "\n",
    "@api.route('/v2/sentiment/<username>/<password>', methods=['GET']) #renvoie le score de sentiment v1 de la phrase proposée\n",
    "def v2_resp(username, password):\n",
    "    f = open('sentence.txt', 'r')\n",
    "    sentence = f.read()\n",
    "    f.close()\n",
    "    v1, v2 = perm_value(username, password)\n",
    "    analyzer = SentimentIntensityAnalyzer()\n",
    "    vs = analyzer.polarity_scores(sentence)\n",
    "    score_v2 = vs['compound']\n",
    "    \n",
    "            if v1==1 and v2==1:\n",
    "                return make_response(jsonify({sentence: 'score v2 = %s'%(score_v2)}), 200)\n",
    "            elif v1==1 and v2==0:\n",
    "                return make_response(jsonify({'error': \"pas d'acces v2 (acces v1 autorise\"}), 403)\n",
    "            elif v1==0 and v2==1:\n",
    "                return make_response(jsonify({sentence: 'score v2 = %s'%(score_v2)}), 200)\n",
    "            elif v1==0 and v2==0:\n",
    "                return make_response(jsonify({'error': 'aucun access autorise (ni v1 ni v2)'}), 403)\n",
    "            else:\n",
    "                return make_response(jsonify({'error': 'check v1 & v2 values'}), 403)\n",
    "\n",
    "\n",
    "if __name__ == '__main__':\n",
    "    api.run(host=\"0.0.0.0\", port=5000)\n"
   ]
  },
  {
   "cell_type": "code",
   "execution_count": null,
   "metadata": {},
   "outputs": [],
   "source": []
  },
  {
   "cell_type": "code",
   "execution_count": null,
   "metadata": {},
   "outputs": [],
   "source": []
  },
  {
   "cell_type": "code",
   "execution_count": null,
   "metadata": {},
   "outputs": [],
   "source": []
  },
  {
   "cell_type": "code",
   "execution_count": null,
   "metadata": {},
   "outputs": [],
   "source": []
  },
  {
   "cell_type": "code",
   "execution_count": null,
   "metadata": {},
   "outputs": [],
   "source": [
    "import random\n",
    "import pandas as pd\n",
    "from flask import Flask\n",
    "import json\n",
    "from flask import jsonify\n",
    "from flask import make_response\n",
    "from flask import abort, request\n",
    "import requests\n",
    "from vaderSentiment.vaderSentiment import SentimentIntensityAnalyzer\n",
    "\n",
    "##fonctions utiles\n",
    "def perm_value(username, password):\n",
    "    df_cred = pd.read_csv(\"./credentials.csv\") #dataframe des credentials\n",
    "    if any(df_cred['username']==str(username)) and any(df_cred['password']==int(password)):#le username et le password sont bien référencés ds les credentials\n",
    "        indx_usr = df_cred.loc[(df_cred['username']==str(username))].index[0] #index de la ligne à laquelle se trouve le username recherché\n",
    "        indx_pwd = df_cred.loc[(df_cred['password']==int(password))].index[0] #index de la ligne à laquelle se trouve le password recherché\n",
    "        if indx_usr==indx_pwd:#le username et le password matchent\n",
    "            v1_col, v2_col = 2,3 #index des colonnes v1 et v2 dans le dataframe\n",
    "            indx = df_cred.loc[(df_cred['username']==str(username)) & (df_cred['password']==int(password))].index[0] #index de la ligne à laquelle se trouve la paire (username, password) recherchée\n",
    "            v1 = df_cred.iloc[indx, v1_col] #valeur de v1 pour cette paire (username, password) (= 0 ou 1)\n",
    "            v2 = df_cred.iloc[indx, v2_col] #valeur de v2 pour cette paire (username, password) (= 0 ou 1\n",
    "            return v1, v2\n",
    "        else :#le username et le password ne matchent pas\n",
    "            return make_response(jsonify({'error': 'check username and/or password'}), 403)\n",
    "    else :#le username et/ou le password ne sont pas référencés ds les credentials\n",
    "        return make_response(jsonify({'error': 'check username and/or password'}), 403)\n",
    "\n",
    "def perm_resp(username, v1, v2):\n",
    "    return make_response(jsonify({'username': username, 'v1':bool(v1), 'v2':bool(v2)}), 200)\n",
    "\n",
    "##API\n",
    "host=\"0.0.0.0\"\n",
    "api = Flask(import_name='my_api')\n",
    "\n",
    "@api.route('/status', methods=['GET']) #renvoie 1 si l’API fonctionne\n",
    "def api_in_use():\n",
    "    return  make_response(jsonify({'it works!': '1'}), 200)\n",
    "\n",
    "@api.route('/permissions/<username>/<password>', methods=['GET']) #renvoie la liste des permissions d’un utilisateur authentifié par son username et son password\n",
    "def perm_type(username, password):\n",
    "    v1, v2 = perm_value(username, password)\n",
    "    perm_json = perm_resp(username, v1, v2)\n",
    "    return perm_json\n",
    "\n",
    "@api.route('/v1/sentiment/<username>/<password>/<sentence>', methods=['GET']) #renvoie le score de sentiment v1 de la phrase proposée\n",
    "def v1_resp(username, password, sentence):\n",
    "    v1, v2 = perm_value(username, password)\n",
    "    if v1==1:\n",
    "        score_v1 = random.randrange(-100, 100, 1)/100\n",
    "        return  make_response(jsonify({\"sentence_sentiment_score\": score_v1}), 200)\n",
    "    elif v1==0:\n",
    "        return make_response(jsonify({'auth_error': \"v1 acces non-authorized\"}), 403)\n",
    "    else:\n",
    "        return make_response(jsonify({'value_error': \"check v1 value\"}), 400)\n",
    "\n",
    "@api.route('/v2/sentiment/<username>/<password>/<sentence>', methods=['GET']) #renvoie le score de sentiment v1 de la phrase proposée\n",
    "def v2_resp(username, password, sentence):\n",
    "    v1, v2 = perm_value(username, password)\n",
    "    if v2==1:\n",
    "        analyzer = SentimentIntensityAnalyzer()\n",
    "        sentence = sentence.replace(\"_\", \" \").replace(\"%\", \" \")\n",
    "        vs = analyzer.polarity_scores(sentence)\n",
    "        score_v2 = vs['compound']\n",
    "        return  make_response(jsonify({\"sentence_sentiment_score\": score_v2}), 200)\n",
    "    elif v2==0:\n",
    "        return make_response(jsonify({'auth_error': \"v2 acces non-authorized\"}), 403)\n",
    "    else:\n",
    "        return make_response(jsonify({'value_error': \"check v2 value\"}), 400)\n",
    "    \n",
    "if __name__ == '__main__':\n",
    "    api.run(host=\"0.0.0.0\", port=5000)"
   ]
  },
  {
   "cell_type": "code",
   "execution_count": 42,
   "metadata": {},
   "outputs": [
    {
     "data": {
      "text/plain": [
       "0.0"
      ]
     },
     "execution_count": 42,
     "metadata": {},
     "output_type": "execute_result"
    }
   ],
   "source": [
    "import random\n",
    "import pandas as pd\n",
    "from flask import Flask\n",
    "import json\n",
    "from flask import jsonify\n",
    "from flask import make_response\n",
    "from flask import abort, request\n",
    "import requests\n",
    "from vaderSentiment.vaderSentiment import SentimentIntensityAnalyzer\n",
    "sentence = \"I%am%happy_are_you\"\n",
    "analyzer = SentimentIntensityAnalyzer()\n",
    "vs = analyzer.polarity_scores(sentence)\n",
    "score_v2 = vs['compound']\n",
    "score_v2"
   ]
  },
  {
   "cell_type": "code",
   "execution_count": 48,
   "metadata": {},
   "outputs": [
    {
     "data": {
      "text/plain": [
       "'I am happy are you'"
      ]
     },
     "execution_count": 48,
     "metadata": {},
     "output_type": "execute_result"
    }
   ],
   "source": [
    "sentence = \"I%am%happy_are_you\"\n",
    "\n",
    "sentence"
   ]
  }
 ],
 "metadata": {
  "kernelspec": {
   "display_name": "Python 3",
   "language": "python",
   "name": "python3"
  },
  "language_info": {
   "codemirror_mode": {
    "name": "ipython",
    "version": 3
   },
   "file_extension": ".py",
   "mimetype": "text/x-python",
   "name": "python",
   "nbconvert_exporter": "python",
   "pygments_lexer": "ipython3",
   "version": "3.8.5"
  }
 },
 "nbformat": 4,
 "nbformat_minor": 4
}
